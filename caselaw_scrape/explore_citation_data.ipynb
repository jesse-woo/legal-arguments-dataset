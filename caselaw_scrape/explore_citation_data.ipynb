{
 "cells": [
  {
   "cell_type": "code",
   "execution_count": 1,
   "id": "6b47f9d9-71dc-4a1d-930a-af9140986fef",
   "metadata": {},
   "outputs": [],
   "source": [
    "import pandas as pd\n",
    "\n",
    "df = pd.read_json('./dataset_complete_01302025.jsonl', lines=True)"
   ]
  },
  {
   "cell_type": "code",
   "execution_count": 2,
   "id": "cc31f50b-63d0-4d27-87e4-f5f1e2de1202",
   "metadata": {},
   "outputs": [
    {
     "data": {
      "text/html": [
       "<div>\n",
       "<style scoped>\n",
       "    .dataframe tbody tr th:only-of-type {\n",
       "        vertical-align: middle;\n",
       "    }\n",
       "\n",
       "    .dataframe tbody tr th {\n",
       "        vertical-align: top;\n",
       "    }\n",
       "\n",
       "    .dataframe thead th {\n",
       "        text-align: right;\n",
       "    }\n",
       "</style>\n",
       "<table border=\"1\" class=\"dataframe\">\n",
       "  <thead>\n",
       "    <tr style=\"text-align: right;\">\n",
       "      <th></th>\n",
       "      <th>filename</th>\n",
       "      <th>text</th>\n",
       "      <th>docket_num</th>\n",
       "      <th>court</th>\n",
       "      <th>arguments</th>\n",
       "      <th>token_count</th>\n",
       "      <th>cleaned_text_alt</th>\n",
       "      <th>cleaned_content_alt</th>\n",
       "      <th>cleaned_args</th>\n",
       "      <th>url</th>\n",
       "      <th>arg_structure</th>\n",
       "      <th>sections_final</th>\n",
       "    </tr>\n",
       "  </thead>\n",
       "  <tbody>\n",
       "    <tr>\n",
       "      <th>0</th>\n",
       "      <td>Docket20-5279_Brief007.pdf</td>\n",
       "      <td>No. 20-5279  \\n \\nIN THE \\nSupreme Court of th...</td>\n",
       "      <td>20-5279</td>\n",
       "      <td>SCOTUS</td>\n",
       "      <td>I. THE RULE OF LENITY SHOULD BE APPLIED RIGORO...</td>\n",
       "      <td>9067</td>\n",
       "      <td>No. 20-5279  \\n \\nIN THE \\nSupreme Court of th...</td>\n",
       "      <td>.................................................</td>\n",
       "      <td>[I. THE RULE OF LENITY SHOULD BE APPLIED RIGOR...</td>\n",
       "      <td>https://www.supremecourt.gov/docket/docketfile...</td>\n",
       "      <td>[{'index': 0, 'header': 'I. THE RULE OF LENITY...</td>\n",
       "      <td>[{'section_id': 'f99d63c9-a024-4844-bc96-d3855...</td>\n",
       "    </tr>\n",
       "    <tr>\n",
       "      <th>1</th>\n",
       "      <td>Docket20-5279_Brief008.pdf</td>\n",
       "      <td>No. 20-5279 \\nIN THE \\nSupreme Court of the Un...</td>\n",
       "      <td>20-5279</td>\n",
       "      <td>SCOTUS</td>\n",
       "      <td>I. AN EXPANSIVE INTERPRETATION OF THE ARMED CA...</td>\n",
       "      <td>7180</td>\n",
       "      <td>No. 20-5279 \\nIN THE \\nSupreme Court of the Un...</td>\n",
       "      <td>No. 20-5279 \\nIN THE \\nSupreme Court of the Un...</td>\n",
       "      <td>[I. AN EXPANSIVE INTERPRETATION OF THE ARMED C...</td>\n",
       "      <td>https://www.supremecourt.gov/docket/docketfile...</td>\n",
       "      <td>[{'index': 0, 'header': 'I. AN EXPANSIVE INTER...</td>\n",
       "      <td>[{'section_id': '55cd7d78-8f13-4a87-9f0e-74af3...</td>\n",
       "    </tr>\n",
       "    <tr>\n",
       "      <th>2</th>\n",
       "      <td>Docket20-5279_Brief009.pdf</td>\n",
       "      <td>\\n No. 20-5279  \\nIn the Supreme Court of the...</td>\n",
       "      <td>20-5279</td>\n",
       "      <td>SCOTUS</td>\n",
       "      <td>Petitioner's 1997 burglary convictions are for...</td>\n",
       "      <td>15564</td>\n",
       "      <td>\\n No. 20-5279  \\nIn the Supreme Court of the...</td>\n",
       "      <td>.............................. ..................</td>\n",
       "      <td>[Petitioner's 1997 burglary convictions are fo...</td>\n",
       "      <td>https://www.supremecourt.gov/docket/docketfile...</td>\n",
       "      <td>[{'index': 0, 'header': 'Petitioner's 1997 bur...</td>\n",
       "      <td>[{'section_id': '33c2641c-3032-4b5b-a459-78328...</td>\n",
       "    </tr>\n",
       "    <tr>\n",
       "      <th>3</th>\n",
       "      <td>Docket20-5279_Brief010.pdf</td>\n",
       "      <td>\\n \\n \\n \\n \\n \\nNo. 20-5279 \\n \\n In the Sup...</td>\n",
       "      <td>20-5279</td>\n",
       "      <td>SCOTUS</td>\n",
       "      <td>I. The Text of the 'Occasions' Clause Supports...</td>\n",
       "      <td>7537</td>\n",
       "      <td>\\n \\n \\n \\n \\n \\nNo. 20-5279 \\n \\n In the Sup...</td>\n",
       "      <td>\\n \\n \\n \\n \\n \\nNo. 20-5279 \\n \\n In the Sup...</td>\n",
       "      <td>[I. The Text of the 'Occasions' Clause Support...</td>\n",
       "      <td>https://www.supremecourt.gov/docket/docketfile...</td>\n",
       "      <td>[{'index': 0, 'header': 'I. The Text of the 'O...</td>\n",
       "      <td>[{'section_id': '47a22f17-e94e-4393-996c-d2a6f...</td>\n",
       "    </tr>\n",
       "    <tr>\n",
       "      <th>4</th>\n",
       "      <td>Docket20-828_Brief001.pdf</td>\n",
       "      <td>\\n No. 20-828 \\n=============================...</td>\n",
       "      <td>20-828</td>\n",
       "      <td>SCOTUS</td>\n",
       "      <td>A. The Ninth Circuit's Decision Must Be Revers...</td>\n",
       "      <td>2566</td>\n",
       "      <td>\\n No. 20-828 \\n=============================...</td>\n",
       "      <td>.................................................</td>\n",
       "      <td>[A. The Ninth Circuit's Decision Must Be Rever...</td>\n",
       "      <td>https://www.supremecourt.gov/docket/docketfile...</td>\n",
       "      <td>[{'index': 0, 'header': 'A. The Ninth Circuit'...</td>\n",
       "      <td>[{'section_id': '69456dca-d4bf-40da-9a3a-cbf50...</td>\n",
       "    </tr>\n",
       "  </tbody>\n",
       "</table>\n",
       "</div>"
      ],
      "text/plain": [
       "                     filename  \\\n",
       "0  Docket20-5279_Brief007.pdf   \n",
       "1  Docket20-5279_Brief008.pdf   \n",
       "2  Docket20-5279_Brief009.pdf   \n",
       "3  Docket20-5279_Brief010.pdf   \n",
       "4   Docket20-828_Brief001.pdf   \n",
       "\n",
       "                                                text docket_num   court  \\\n",
       "0  No. 20-5279  \\n \\nIN THE \\nSupreme Court of th...    20-5279  SCOTUS   \n",
       "1  No. 20-5279 \\nIN THE \\nSupreme Court of the Un...    20-5279  SCOTUS   \n",
       "2   \\n No. 20-5279  \\nIn the Supreme Court of the...    20-5279  SCOTUS   \n",
       "3   \\n \\n \\n \\n \\n \\nNo. 20-5279 \\n \\n In the Sup...    20-5279  SCOTUS   \n",
       "4   \\n No. 20-828 \\n=============================...     20-828  SCOTUS   \n",
       "\n",
       "                                           arguments  token_count  \\\n",
       "0  I. THE RULE OF LENITY SHOULD BE APPLIED RIGORO...         9067   \n",
       "1  I. AN EXPANSIVE INTERPRETATION OF THE ARMED CA...         7180   \n",
       "2  Petitioner's 1997 burglary convictions are for...        15564   \n",
       "3  I. The Text of the 'Occasions' Clause Supports...         7537   \n",
       "4  A. The Ninth Circuit's Decision Must Be Revers...         2566   \n",
       "\n",
       "                                    cleaned_text_alt  \\\n",
       "0  No. 20-5279  \\n \\nIN THE \\nSupreme Court of th...   \n",
       "1  No. 20-5279 \\nIN THE \\nSupreme Court of the Un...   \n",
       "2   \\n No. 20-5279  \\nIn the Supreme Court of the...   \n",
       "3   \\n \\n \\n \\n \\n \\nNo. 20-5279 \\n \\n In the Sup...   \n",
       "4   \\n No. 20-828 \\n=============================...   \n",
       "\n",
       "                                 cleaned_content_alt  \\\n",
       "0  .................................................   \n",
       "1  No. 20-5279 \\nIN THE \\nSupreme Court of the Un...   \n",
       "2  .............................. ..................   \n",
       "3   \\n \\n \\n \\n \\n \\nNo. 20-5279 \\n \\n In the Sup...   \n",
       "4  .................................................   \n",
       "\n",
       "                                        cleaned_args  \\\n",
       "0  [I. THE RULE OF LENITY SHOULD BE APPLIED RIGOR...   \n",
       "1  [I. AN EXPANSIVE INTERPRETATION OF THE ARMED C...   \n",
       "2  [Petitioner's 1997 burglary convictions are fo...   \n",
       "3  [I. The Text of the 'Occasions' Clause Support...   \n",
       "4  [A. The Ninth Circuit's Decision Must Be Rever...   \n",
       "\n",
       "                                                 url  \\\n",
       "0  https://www.supremecourt.gov/docket/docketfile...   \n",
       "1  https://www.supremecourt.gov/docket/docketfile...   \n",
       "2  https://www.supremecourt.gov/docket/docketfile...   \n",
       "3  https://www.supremecourt.gov/docket/docketfile...   \n",
       "4  https://www.supremecourt.gov/docket/docketfile...   \n",
       "\n",
       "                                       arg_structure  \\\n",
       "0  [{'index': 0, 'header': 'I. THE RULE OF LENITY...   \n",
       "1  [{'index': 0, 'header': 'I. AN EXPANSIVE INTER...   \n",
       "2  [{'index': 0, 'header': 'Petitioner's 1997 bur...   \n",
       "3  [{'index': 0, 'header': 'I. The Text of the 'O...   \n",
       "4  [{'index': 0, 'header': 'A. The Ninth Circuit'...   \n",
       "\n",
       "                                      sections_final  \n",
       "0  [{'section_id': 'f99d63c9-a024-4844-bc96-d3855...  \n",
       "1  [{'section_id': '55cd7d78-8f13-4a87-9f0e-74af3...  \n",
       "2  [{'section_id': '33c2641c-3032-4b5b-a459-78328...  \n",
       "3  [{'section_id': '47a22f17-e94e-4393-996c-d2a6f...  \n",
       "4  [{'section_id': '69456dca-d4bf-40da-9a3a-cbf50...  "
      ]
     },
     "execution_count": 2,
     "metadata": {},
     "output_type": "execute_result"
    }
   ],
   "source": [
    "df.head()"
   ]
  },
  {
   "cell_type": "code",
   "execution_count": 3,
   "id": "1e73e80a-1a66-414f-9167-063b601f88eb",
   "metadata": {},
   "outputs": [],
   "source": [
    "import re\n",
    "\n",
    "def count_citations(annotated_text, max_distance=5):\n",
    "    if not isinstance(annotated_text, str):\n",
    "        return 0, 0  # Skip if not a valid string\n",
    "\n",
    "    # Find all citation tokens with their positions\n",
    "    pattern = r\"<MASK>.*?</MASK>\"\n",
    "    words = annotated_text.split()  # Tokenize by whitespace\n",
    "    positions = [i for i, word in enumerate(words) if re.match(pattern, word)]\n",
    "    '''\n",
    "    for position in positions:\n",
    "        print(position)\n",
    "        print(words[position])\n",
    "        '''\n",
    "\n",
    "    # Total citation count\n",
    "    total_citations = len(positions)\n",
    "\n",
    "    # Count citation pairs within max_distance words\n",
    "    nearby_citations = 0\n",
    "    for i in range(len(positions) - 1):\n",
    "        if (positions[i + 1] - positions[i]) <= max_distance:  # Check word distance\n",
    "            nearby_citations += 1\n",
    "\n",
    "    return total_citations, nearby_citations\n"
   ]
  },
  {
   "cell_type": "code",
   "execution_count": 4,
   "id": "96bc44c0-e6b4-4204-bd6f-b0c18b1c534f",
   "metadata": {},
   "outputs": [
    {
     "name": "stdout",
     "output_type": "stream",
     "text": [
      "\"[T]he rule of lenity[] teach[es] that ambiguities about the breadth of a cri minal statute should be resolved in the defendant's favor.\" <MASK>27c6ed5d-6a68-42a7-a3a1-a659a6852d7f</MASK> ( 2019). That rule has famously been described as \"'perhaps not much less old than' the task of statut ory 'construction itself.'\" Id. (quoting <MASK>920f9f16-d699-48ce-b443-30066ac7bb39</MASK>. At its core the rule of le nity is an understanding that \"a fair warning should be given to the world in language that the common world will understand, of what the law intends to do if a certain line is passed,\" and that, \"[t]o make the warning fair, so far as possible the line sh ould be clear.\" <MASK>d173dde0-afa7-4f58-8f50-c9bf5d70dc67</MASK>. In addition, judicial adherence to the rule of lenity also \"places the weight of inertia upon the party\" – that is, the executive branch – \"that can best induce Congress to speak more clearly and keeps courts 7 from making criminal law in Congress's stead.\" <MASK>634b682a-2dec-40b8-92f1-4fba9014bd0d</MASK>. In several cases involving mandatory minimum sentencing provisions, the Court has recognized and applied the \"presupposition . . . [that] doubts in the enforcement of a penal code\" should be \"resolve[d] . . . against the imposition of a harsher punishment.\" Bell, 349 U.S. at 83. Examples include Davis , which invoked lenity to reject a broader saving construction of a different provision of the same mandatory mini- mum statute at issue here, see 139 S. Ct. at 2333; <MASK>b50de5c4-fae2-49e5-918f-a7a8283f6a06</MASK>, which described a 15-year mandat ory minimum statute as \"a criminal statute subject to the rule of lenity,\" and lenity as a reason the Court \"[e]specially\" could not depart from the \"ordinary, accepted meaning\" of \"the [statutory] text,\" id. at 216; and <MASK>c7d2932e-acd6-4bb7-b23d-d80bf2af94cc</MASK>, which \"appl[ied] the rule of lenity\" to \"resolve [an] ambiguity\" in a \"mandatory minimum sentence of imprisonment\" after revocation of probation, id. at 56-57. Those decisions cohere with others explaining that the rule of lenity assists \"not only to resolve issues about the substantive scope of criminal statutes, but to answer questions about the severity of sentencing.\" <MASK>bad97c16-3d13-451b-8cae-13c514365496</MASK>. Indeed, especially good reasons warrant applying the rule of lenity rigorously to statutes that, like the ACCA, create aggravated offenses with mandatory 8 minimum sentences. A broad construction bars judges from tailoring the sentence to the offense and the offender, leading to particularly harsh conse- quences that only Congress can correct. A narrower construction, by contrast, does not prevent judges from imposing longer sentences where necessary. \"These interpretive asymmetries give the rule of lenity special force in the context of mandatory minimum provisions.\" <MASK>599bf231-c18f-4fbf-976d-a542a461aaad</MASK>. Further, experience shows that mandatory mini- mum statutes frequently present difficult problems of statutory construction, creating a heightened risk that courts will read them to impose sentences that Congress never intended. Wh ere, as here, an unclear statute presents a palpable risk of error, courts properly refuse to \"condemn a man to a minimum of 15 years in prison on the basis of . . . speculation,\" <MASK>9672c920-d258-4307-82bb-4c315898922b</MASK>, about what Congress meant to say.\n"
     ]
    }
   ],
   "source": [
    "test_row = df.iloc[0]\n",
    "test_sec = test_row[\"sections_final\"][0][\"annotated_text\"]\n",
    "print(test_sec)"
   ]
  },
  {
   "cell_type": "code",
   "execution_count": 5,
   "id": "6e3cda0a-8496-47f1-9a63-0089707bbf9f",
   "metadata": {},
   "outputs": [
    {
     "name": "stdout",
     "output_type": "stream",
     "text": [
      "(9, 0)\n"
     ]
    }
   ],
   "source": [
    "test_count = count_citations(test_sec)\n",
    "print(test_count)"
   ]
  },
  {
   "cell_type": "code",
   "execution_count": 6,
   "id": "6f197ecd-4b45-482e-ba84-a03bc711160c",
   "metadata": {},
   "outputs": [
    {
     "name": "stdout",
     "output_type": "stream",
     "text": [
      "Total number of citations: 86447\n",
      "Total number of nearby citations (within 5 words): 11759\n"
     ]
    }
   ],
   "source": [
    "total_citations = 0\n",
    "total_nearby_citations = 0\n",
    "\n",
    "indices = []\n",
    "for i, row in df.iterrows():\n",
    "    sections = row[\"sections_final\"]\n",
    "\n",
    "    if not isinstance(sections, list):\n",
    "        continue  # Skip if sections_final is not a list\n",
    "\n",
    "    for j, section in enumerate(sections):\n",
    "        if isinstance(section, dict) and \"annotated_text\" in section:\n",
    "            citations, nearby_citations = count_citations(section[\"annotated_text\"])\n",
    "            total_citations += citations\n",
    "            total_nearby_citations += nearby_citations\n",
    "            indices.append((i, j))\n",
    "\n",
    "# Print the total counts\n",
    "print(f\"Total number of citations: {total_citations}\")\n",
    "print(f\"Total number of nearby citations (within 5 words): {total_nearby_citations}\")"
   ]
  },
  {
   "cell_type": "code",
   "execution_count": 7,
   "id": "d46bee45-341d-497a-b223-8d6ce89c9b74",
   "metadata": {},
   "outputs": [
    {
     "name": "stdout",
     "output_type": "stream",
     "text": [
      "25733\n"
     ]
    }
   ],
   "source": [
    "print(len(indices))"
   ]
  },
  {
   "cell_type": "code",
   "execution_count": 8,
   "id": "d808a1e0-7026-4164-8e54-5fa6741bb1d1",
   "metadata": {},
   "outputs": [
    {
     "name": "stdout",
     "output_type": "stream",
     "text": [
      "1. The costs of erroneously construing mandatory minimum sentencing provisions too broadly are especially high, and the costs of construing them too narrowly are especially low. The greatest cost of reading a mandatory minimu m too broadly is that individual defendants lose their liberty. Mandatory minimum provisions are, by design, severe. They often tie an additional prison sentence of years or decades (here, a decade and a half) to a single factual determination. Such provisions therefore speak to the core concern that has motivated courts to apply the rule of lenity for centuries: the \"instinctive 9 distaste[] against men lang uishing in prison unless the lawmaker has clearly sa id they should.\" Henry J. Friendly, \"Mr. Justice Frankfurter and the Reading of Statutes,\" in Benchmarks 196, 209 (1967), quoted in <MASK>3e47527b-6426-41c6-bd2f-1555ae9a3dde</MASK>. Because of that concern, this Court \"will not interpret a federal criminal statute so as to increase the penalty that it places on an individual when such an interpretation can be based on no more than a guess as to what Congress intended.\" <MASK>a95f6b24-40b2-4917-ae4b-5b8f620f8df4</MASK>. Further, mandatory minimum provisions often are said to reflect (at least in theory) the moral judgment of the community that particular conduct deserves harsher punishment. In our system of government, that judgment is reserved to the legislature. The rule of lenity ensures that criminal sentences actually reflect legislative judgment, rather than guesswork by the courts abo ut what the legislature meant. See Granderson , 511 U.S. at 69 (Kennedy, J., concurring in the judgment) (\"'[B]ecause criminal punishment usually represents the moral condemna- tion of the community, legislatures and not courts should define criminal activity,' and set the punish- ments therefor.\") (quoting Bass , 404 U.S. at 348) (citation omitted); R.L.C. , 503 U.S. at 309 (Scalia, J., concurring in part and co ncurring in the judgment) (describing one of \"the rule of lenity's . . . purpose[s]\" as \"assuring that the society, through its represen- tatives, has genuinely called for the punishment to be meted out\"); Wiltberger , 18 U.S. (5 Wheat.) at 95 (explaining that \"[t]he rule that penal laws are to be construed strictly\" is founded not merely on \"tenderness of the law for the rights of individuals\" but also on the \"plain principle that the power of 10 punishment is vested in the legislative, not in the judicial department\"). Any criminal statute presents these concerns, but mandatory minimum provisions make them particularly weighty. Unlike other criminal laws, mandatory minimums are exceptions to the principle that courts should \"impose a sentence sufficient, but not greater than necessary,\" to accomplish the goals of criminal punishme nt after considering \"the nature and circumstances of the offense and the history and characteristics of the defendant.\" 18 U.S.C. § 3553(a)(1). A mandatory minimum is a congressional directive to subordinate justice in individual cases to a perceived need for greater deterrence or incapacitation generally. Congress may choose to make that tradeoff (within constitu- tional bounds), but the courts should ensure that Congress has actually made that choice before imposing needlessly harsh punishments. Cf. <MASK>e8cea61b-e2cd-4b5a-8b63-0378ecf6971f</MASK>. 2. The adverse consequences of erroneously expanding mandatory sentencing beyond the limits of congressional intent affect more than just individual defendants. Such errors strike at the foundations of the sentencing system by under- mining \"sentencing proportionality – a key element of sentencing fairness.\" <MASK>c9bb2897-a895-4e1b-ae98-39786eef97fd</MASK>. As the Sentencing Commission – quoted with approval by this Court – has explained: \"'The \"cliffs\" that result 11 from mandatory minimums compromise proportion- ality, a fundamental prem ise for just punishment, and a primary goal of the Sentencing Reform Act.'\" <MASK>e012ad71-e8c0-4dce-8dd3-52335d691201</MASK>. Further, the rule of leni ty historically has been justified in part based on the \"principle of legality\": conduct can be criminalized , and penalties author- ized, only by legislative action, so \"that the amount of discretion entrusted to those who enforce the law does not exceed tolerable lim its.\" Herbert L. Packer, The Limits of the Criminal Sanction 93 (1968). As the Court put it in <MASK>0d3ec6bb-1d4d-488e-baea-276528db6bbe</MASK>, \"prosecutorial discretion\" to enforce a statute with \"wide-rangin g scope . . . places great power in the hands of the prosecutor,\" creating risks of \"nonuniform execution\" and \"arbitary prosecution.\" Id. at 1108-09. That concern is one reason for the Court's \"'traditional[] exercise[]'\" of \"'restraint in assessing the reach of a federal criminal statute.'\" Id. at 1109 (quoting <MASK>461dae7b-fd82-45e9-bc88-649cb04e4e6b</MASK>). And it is a special problem with mandatory minimums that effectively transfer sentencing discretion from the trial judge, \"the one actor in the system most ex perienced with exercising discretion,\" to \"an assistant prosecutor not trained in the exercise of discretion.\" An Address by Anthony M. Kennedy, Associate Justic e, Supreme Court of the United States, Speech at the American Bar Associ- ation Annual Meeting (Aug. 9, 2003), available at https://www.supremecourt.gov/publicinfo/speeches/sp_08-09-03.html. 12 Inconsistently exercised discretion means that, in practice, mandatory minimums fail to yield even uniformity in sentencing – the benefit they are supposed to obtain at the cost of individual justice and proportionality. Over decades, the Sentencing Commission has repeatedly reported \"inconsisten[cy]\" and \"wide geographic variations\" in the use of mandatory minimum sentences. E.g., United States Sentencing Comm'n, Application and Impact of 21 U.S.C. § 851: Enhanced Penalties for Federal Drug Trafficking Offenders 6 (July 2018) (finding \"significant variation in the extent to which . . . enhanced penalties were sought against eligible offenders\"); see also <MASK>a5f5f94c-832a-46cd-97af-d080bb65becc</MASK>. 2 2 See also United States Sentencing Comm'n, Mandatory Minimum Penalties for Sex Offenses in the Federal Criminal Justice System 56 (Jan. 2019) (finding that, \"[i]n fiscal year 2016, the mandatory minimum penalty for receipt [of child por-nography] [wa]s inconsistently applied,\" leading to \"substantial\" differences in sentences where \"the conduct involved in the offenses was not meaningfully distinguishable\"); United States Sentencing Comm'n, Report to Congress: Mandatory Minimum Penalties in the Federal Criminal Justice System 345 (Oct. 2011) (\"2011 Report\") (finding \"inconsistencies in application of certain mandatory minimum penalties, as shown by . . . data analyses and confirmed by interviews of prosecutors and defense attorneys\"); United States Sentencing Comm'n, Fifteen Years of Guidelines Sentencing: An Assessment of How Well the Federal Criminal Justice System is Achieving the Goals of Sentencing Reform 89 (Nov. 2004) (\"Research over the past fifteen years has consistently found that mandatory penalty statutes are used inconsistently in cases in which they appear to apply.\"). 13 Indeed, over the last two decades, different Attorneys General have instructed federal prose- cutors differently on how to use mandatory minimum statutes, switching between more- and less-aggressive approaches.3 In adopting such policies, the executive branch takes into its own hands the tradeoff between sentencing uniformity, on the one hand, and individual justice and proportionality, on the other. Whatever the wisdom of the competing approaches, that practice emphasizes how mandatory minimum statutes transfer power over individual liberty from lawmakers and judges to pr osecutors. In our adver- sarial system, moreover, pr osecutors can and do use that power strategically in ways that undermine structural protections for individual liberties, such as by using the threat of a mandatory minimum to obtain a guilty plea. See <MASK>587ba5ad-db5e-4b23-8eb1-b82922697d10</MASK>, aff 'd, <MASK>0a3de13a-7dc4-430d-b80b-3f6d70c32b39</MASK> . 3 See Angelos , 345 F. Supp. 2d at 1253 & n.120 (discussing a 2003 memorandum intended \"to reduce charging disparities stemming from § 924(c)\"); United States Sentencing Comm'n, An Overview of Mandatory Minim um Penalties in the Federal Criminal Justice System 24-25 (July 2017) (comparing the 2013 \"Smart on Crime\" initiative, which outlined circumstances in which prosecutors should \"'decline to charge'\" mandatory minimum sentences, to \"revised guidance\" in 2017 directing prosecutors generally to \"'charge and pursue the most serious, readily provable offense,'\" with seriousness measured by the greatest sentence, \" 'including mandatory minimum sentences' \"). 14 Nor does the expansion of prosecutorial power through mandatory minimum statutes stop at the charging stage. Even after conviction, the prosecutor holds an important key to lessening the effect of a mandatory minimum sentence. A district court is freed from restrictions on its sentencing discretion \"[u]pon motion of the Government . . . so as to reflect a defendant's substantial assistance in the investi-gation or prosecution of another person,\" 18 U.S.C. § 3553(e), or it can similarly reduce the sentence later, again with the government's approval, under Federal Rule of Criminal Procedure 35(b)(4). 4 Suc h discretionary motions have large effects on sentences, often reducing them by many years.5 Research has found \"enorm ous differences in how prosecutors exercise that di scretion, with substantial variation by district.\"6 Again, within broad constitu- tional bounds, Congress has the power to create such a system. But the Court need not and should not broaden more than Congress's language requires 4 In certain cases involving no n-violent drug offenders, a district judge may invoke 18 U.S.C. § 3553(f), often called a judicial \"safety valve,\" but the sa fety valve is \"narrow\" and still requires prosecutorial approval in substance if not in form. Rachel E. Barkow, Categorical Mistakes: The Flawed Frame- work of the Armed Career Criminal Act and Mandatory Mini- mum Sentencing , 133 Harv. L. Rev. 200, 218 (2019). 5 See United States Sentencing Comm'n, Mandatory Minimum Penalties for Firearms Offenses in the Federal Criminal Justice System 42 (Mar. 2018) (\"In fiscal year 2016, the average sentence for offenders who remained subject to the mandatory minimum penalty [under § 924(e)] at sentencing was 200 months, signifi-cantly longer than the average sentence for offenders relieved of this mandatory minimum penalty (112 months).\"). 6 Barkow, Categorical Mistakes , 133 Harv. L. Rev. at 224 & n.183, 236 & n.281 (discussing the 2011 and 1991 Reports). 15 statutes that give prosecutors powers over individual lives traditionally reserved for independent judges. 3. By contrast, the costs of erroneously construing a mandatory minimum provision too narrowly are relatively low, both for individual cases and for the criminal justice system as a whole. In cases that fall outside the scope of a mandatory minimum, but that nevertheless feature aggravating circumstances similar to those that moved Congress to impose the minimum, a sentencing judge still has discretion (guided by § 3553(a) and the sentencing guidelines) to impose a more severe sentence. As Justice Breyer explained in Dean , \"an interpretive error on the side of leniency[] still permits the sentencing judge to impose a sentence similar to, perhaps close to, the statutor y sentence even if that sentence . . . is not legislatively required .\" 556 U.S. at 584 (Breyer, J., dissenting). Moreover, \"an error that excludes (erroneously) a set of instances Congress me ant to include . . . could lead the Sentencing Commission to focus on those cases . . . [and] make avail able to Congress a body of evidence and analysis that w ill help it reconsider the statute.\" Id. at 585. Those who bring actions under the criminal laws (the executive branch) have far greater access to thos e who create them (the legislative branch) than do those who defend against such actions (potential criminal defendants). In light of this practical reality, the rule of lenity \"places the weight of inertia upon the party that can best induce Congress to speak more clearly.\" Santos , 553 U.S. at 514 (plurality). 16\n"
     ]
    }
   ],
   "source": [
    "index = 1\n",
    "# The index of the row and section text are stored as a tuple in indices (i, j), because each row has multiple sections.\n",
    "i = indices[index][0]\n",
    "j = indices[index][1]\n",
    "sections = df.iloc[i][\"sections_final\"]\n",
    "print(sections[j][\"annotated_text\"])"
   ]
  },
  {
   "cell_type": "code",
   "execution_count": 9,
   "id": "233d32e2-5a58-432a-b43f-29dc8973fd78",
   "metadata": {},
   "outputs": [
    {
     "name": "stdout",
     "output_type": "stream",
     "text": [
      "Total number of citations: 86447\n",
      "Total number of nearby citations (within 3 words): 8759\n"
     ]
    }
   ],
   "source": [
    "total_citations = 0\n",
    "total_nearby_citations = 0\n",
    "\n",
    "# Iterate through each row and count citations\n",
    "for _, row in df.iterrows():\n",
    "    sections = row[\"sections_final\"]\n",
    "\n",
    "    if not isinstance(sections, list):\n",
    "        continue  # Skip if sections_final is not a list\n",
    "\n",
    "    for section in sections:\n",
    "        if isinstance(section, dict) and \"annotated_text\" in section:\n",
    "            citations, nearby_citations = count_citations(section[\"annotated_text\"], max_distance=3)\n",
    "            total_citations += citations\n",
    "            total_nearby_citations += nearby_citations\n",
    "\n",
    "# Print the total counts\n",
    "print(f\"Total number of citations: {total_citations}\")\n",
    "print(f\"Total number of nearby citations (within 3 words): {total_nearby_citations}\")"
   ]
  },
  {
   "cell_type": "code",
   "execution_count": 10,
   "id": "643ca159-caa7-4ad2-be38-c7a97b3a9335",
   "metadata": {},
   "outputs": [
    {
     "name": "stdout",
     "output_type": "stream",
     "text": [
      "Total number of citations: 86447\n",
      "Total number of nearby citations (within 2 words): 6101\n"
     ]
    }
   ],
   "source": [
    "total_citations = 0\n",
    "total_nearby_citations = 0\n",
    "\n",
    "# Iterate through each row and count citations\n",
    "for _, row in df.iterrows():\n",
    "    sections = row[\"sections_final\"]\n",
    "\n",
    "    if not isinstance(sections, list):\n",
    "        continue  # Skip if sections_final is not a list\n",
    "\n",
    "    for section in sections:\n",
    "        if isinstance(section, dict) and \"annotated_text\" in section:\n",
    "            citations, nearby_citations = count_citations(section[\"annotated_text\"], max_distance=2)\n",
    "            total_citations += citations\n",
    "            total_nearby_citations += nearby_citations\n",
    "\n",
    "# Print the total counts\n",
    "print(f\"Total number of citations: {total_citations}\")\n",
    "print(f\"Total number of nearby citations (within 2 words): {total_nearby_citations}\")"
   ]
  },
  {
   "cell_type": "code",
   "execution_count": null,
   "id": "a7be5691-0f62-4b69-9251-212bf1d9c0e3",
   "metadata": {},
   "outputs": [],
   "source": []
  }
 ],
 "metadata": {
  "kernelspec": {
   "display_name": "Python 3 (ipykernel)",
   "language": "python",
   "name": "python3"
  },
  "language_info": {
   "codemirror_mode": {
    "name": "ipython",
    "version": 3
   },
   "file_extension": ".py",
   "mimetype": "text/x-python",
   "name": "python",
   "nbconvert_exporter": "python",
   "pygments_lexer": "ipython3",
   "version": "3.9.19"
  }
 },
 "nbformat": 4,
 "nbformat_minor": 5
}
