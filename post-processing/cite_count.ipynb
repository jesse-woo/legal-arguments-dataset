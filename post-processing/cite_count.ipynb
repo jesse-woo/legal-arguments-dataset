{
 "cells": [
  {
   "cell_type": "code",
   "execution_count": 4,
   "id": "a22134b1-591e-43c6-b1e8-1c09316e1dd8",
   "metadata": {},
   "outputs": [],
   "source": [
    "token_file_path = '../caselaw_scrape/court_listener_token.txt'  # Adjust the path if the file is in a different directory\n",
    "\n",
    "# Reading the API token from the file\n",
    "with open(token_file_path, 'r') as file:\n",
    "    api_token = file.read().strip()#"
   ]
  },
  {
   "cell_type": "code",
   "execution_count": 5,
   "id": "f21d0696-515a-4996-b77f-9ad24d2a3204",
   "metadata": {},
   "outputs": [],
   "source": [
    "import pandas as pd\n",
    "\n",
    "df = pd.read_json('../caselaw_scrape/dataset_complete_08222024.jsonl', lines=True)"
   ]
  },
  {
   "cell_type": "code",
   "execution_count": 7,
   "id": "279a1b3a-ad6e-4384-92f9-737846ee18c0",
   "metadata": {},
   "outputs": [
    {
     "name": "stdout",
     "output_type": "stream",
     "text": [
      "Number of docket numbers: 354\n"
     ]
    }
   ],
   "source": [
    "unique_docket_nums = df[\"docket_num\"].unique().tolist()\n",
    "print(\"Number of docket numbers:\", len(unique_docket_nums))"
   ]
  },
  {
   "cell_type": "code",
   "execution_count": 67,
   "id": "83571be9-2dc9-46a9-ac45-23d8327f457c",
   "metadata": {},
   "outputs": [
    {
     "name": "stdout",
     "output_type": "stream",
     "text": [
      "20-828\n"
     ]
    }
   ],
   "source": [
    "test_num = unique_docket_nums[1]\n",
    "print(test_num)"
   ]
  },
  {
   "cell_type": "markdown",
   "id": "d182c36f-6c5a-46b2-8b38-62ded37e8275",
   "metadata": {},
   "source": [
    "For each docket number, make a request on supremecourt.gov and grab the case name. Then search courtlistener for that case name and store the case ID. Finally perform cited by lookup based on the ID"
   ]
  },
  {
   "cell_type": "code",
   "execution_count": 54,
   "id": "0bb5cdf0-8ebd-463e-9b57-c48cb5d8b74f",
   "metadata": {},
   "outputs": [],
   "source": [
    "import pandas as pd\n",
    "\n",
    "new_df = pd.DataFrame({\n",
    "    \"docket_num\": unique_docket_nums,\n",
    "    \"cl_id\": None,  \n",
    "    \"title\": None,  \n",
    "    \"docketed_date\": None, \n",
    "    \"lower_ct\": None, \n",
    "    \"lower_ct_num\": None, \n",
    "    \"question_presented\": None,\n",
    "    \"times_cited\": None,\n",
    "})\n"
   ]
  },
  {
   "cell_type": "code",
   "execution_count": 24,
   "id": "f111afd2-83ba-467f-bd37-d8b2fde34280",
   "metadata": {},
   "outputs": [],
   "source": [
    "from selenium import webdriver\n",
    "from selenium.webdriver.common.by import By\n",
    "from selenium.webdriver.firefox.options import Options\n",
    "from selenium.webdriver.firefox.service import Service\n",
    "from webdriver_manager.firefox import GeckoDriverManager\n",
    "import pandas as pd\n",
    "import time\n",
    "import random\n",
    "\n",
    "def extract_docket_info(docket_number):\n",
    "    \"\"\" Extracts case details from the Supreme Court website for a given docket number. \"\"\"\n",
    "\n",
    "    options = Options()\n",
    "    options.add_argument(\"--headless\")  # Run in headless mode\n",
    "    service = Service(GeckoDriverManager().install())\n",
    "    \n",
    "    # Start a new WebDriver session for each request\n",
    "    driver = webdriver.Firefox(service=service, options=options)\n",
    "\n",
    "    url = f\"https://www.supremecourt.gov/docket/docketfiles/html/public/{docket_number}.html\"\n",
    "    case_data = {\n",
    "        \"docket_num\": docket_number,\n",
    "        \"title\": None,\n",
    "        \"docketed_date\": None,\n",
    "        \"lower_ct\": None,\n",
    "        \"lower_ct_num\": None,\n",
    "        \"question_presented_link\": None\n",
    "    }\n",
    "    \n",
    "    try:\n",
    "        driver.get(url)\n",
    "\n",
    "        # Locate the docketinfo table\n",
    "        docket_info_table = driver.find_element(By.ID, \"docketinfo\")\n",
    "        rows = docket_info_table.find_elements(By.TAG_NAME, \"tr\")\n",
    "\n",
    "        for row in rows:\n",
    "            cells = row.find_elements(By.TAG_NAME, \"td\")\n",
    "            if len(cells) >= 2:  # Ensure the row has at least 2 cells\n",
    "                label = cells[0].text.strip()\n",
    "                value = cells[1].text.strip()\n",
    "\n",
    "                if \"Title:\" in label:\n",
    "                    case_data[\"title\"] = value\n",
    "                elif \"Docketed:\" in label:\n",
    "                    case_data[\"docketed_date\"] = value\n",
    "                elif \"Lower Ct:\" in label:\n",
    "                    case_data[\"lower_ct\"] = value\n",
    "                elif \"Case Numbers:\" in label:\n",
    "                    case_data[\"lower_ct_num\"] = value\n",
    "\n",
    "        # Find \"Question Presented\" link\n",
    "        question_links = docket_info_table.find_elements(By.XPATH, \"//a[contains(text(), 'Questions Presented')]\")\n",
    "        if question_links:\n",
    "            case_data[\"question_presented_link\"] = question_links[0].get_attribute(\"href\")\n",
    "    \n",
    "    except Exception as e:\n",
    "        print(f\"Error extracting data for docket {docket_number}: {str(e)}\")\n",
    "    \n",
    "    finally:\n",
    "        driver.quit()  # Ensure the driver is closed after each request\n",
    "    \n",
    "    return case_data"
   ]
  },
  {
   "cell_type": "code",
   "execution_count": 25,
   "id": "a5fd4027-4cb9-49c3-9688-24f78e29b218",
   "metadata": {},
   "outputs": [],
   "source": [
    "# Test with a docket number\n",
    "test_data = extract_docket_info(test_num)\n",
    "\n",
    "driver.quit()"
   ]
  },
  {
   "cell_type": "code",
   "execution_count": 26,
   "id": "c1de6e29-4cab-449b-a515-a2af664a11d2",
   "metadata": {},
   "outputs": [
    {
     "name": "stdout",
     "output_type": "stream",
     "text": [
      "{'docket_num': '20-828', 'title': 'Federal Bureau of Investigation, et al., Petitioners\\nv.\\nYassir Fazaga, et al.', 'docketed_date': 'December 18, 2020', 'lower_ct': 'United States Court of Appeals for the Ninth Circuit', 'lower_ct_num': '(12-56867, 12-56874, 13-55017)', 'question_presented_link': 'https://www.supremecourt.gov/docket/docketfiles/html/qp/20-00828qp.pdf'}\n"
     ]
    }
   ],
   "source": [
    "print(test_data)"
   ]
  },
  {
   "cell_type": "code",
   "execution_count": 42,
   "id": "1cd31146-089f-4541-b114-7479c014d0ca",
   "metadata": {},
   "outputs": [
    {
     "name": "stderr",
     "output_type": "stream",
     "text": [
      " 22%|██▏       | 77/354 [19:57<1:11:49, 15.56s/it]\n"
     ]
    },
    {
     "ename": "ValueError",
     "evalue": "response body:\n{\"message\":\"API rate limit exceeded for 47.230.208.158. (But here's the good news: Authenticated requests get a higher rate limit. Check out the documentation for more details.)\",\"documentation_url\":\"https://docs.github.com/rest/overview/resources-in-the-rest-api#rate-limiting\"}\n\nrequest url:\nhttps://api.github.com/repos/mozilla/geckodriver/releases/latest\nresponse headers:\n{'Date': 'Mon, 10 Mar 2025 00:08:53 GMT', 'Server': 'Varnish', 'Strict-Transport-Security': 'max-age=31536000; includeSubdomains; preload', 'X-Content-Type-Options': 'nosniff', 'X-Frame-Options': 'deny', 'X-XSS-Protection': '1; mode=block', 'Content-Security-Policy': \"default-src 'none'; style-src 'unsafe-inline'\", 'Access-Control-Allow-Origin': '*', 'Access-Control-Expose-Headers': 'ETag, Link, Location, Retry-After, X-GitHub-OTP, X-RateLimit-Limit, X-RateLimit-Remaining, X-RateLimit-Reset, X-RateLimit-Used, X-RateLimit-Resource, X-OAuth-Scopes, X-Accepted-OAuth-Scopes, X-Poll-Interval, X-GitHub-Media-Type, Deprecation, Sunset', 'Content-Type': 'application/json; charset=utf-8', 'Referrer-Policy': 'origin-when-cross-origin, strict-origin-when-cross-origin', 'X-GitHub-Media-Type': 'github.v3; format=json', 'X-RateLimit-Limit': '60', 'X-RateLimit-Remaining': '0', 'X-RateLimit-Reset': '1741567739', 'X-RateLimit-Resource': 'core', 'X-RateLimit-Used': '60', 'Content-Length': '280', 'X-GitHub-Request-Id': '5DCB:340C96:1DB5176:3C14630:67CE2D95'}\n",
     "output_type": "error",
     "traceback": [
      "\u001b[1;31m---------------------------------------------------------------------------\u001b[0m",
      "\u001b[1;31mValueError\u001b[0m                                Traceback (most recent call last)",
      "Cell \u001b[1;32mIn[42], line 5\u001b[0m\n\u001b[0;32m      3\u001b[0m cases_list \u001b[38;5;241m=\u001b[39m []\n\u001b[0;32m      4\u001b[0m \u001b[38;5;28;01mfor\u001b[39;00m docket \u001b[38;5;129;01min\u001b[39;00m tqdm(unique_docket_nums):\n\u001b[1;32m----> 5\u001b[0m     case_data \u001b[38;5;241m=\u001b[39m \u001b[43mextract_docket_info\u001b[49m\u001b[43m(\u001b[49m\u001b[43mdocket\u001b[49m\u001b[43m)\u001b[49m\n\u001b[0;32m      6\u001b[0m     cases_list\u001b[38;5;241m.\u001b[39mappend(case_data)\n\u001b[0;32m      8\u001b[0m     \u001b[38;5;66;03m# Random sleep to avoid being blocked\u001b[39;00m\n",
      "Cell \u001b[1;32mIn[24], line 15\u001b[0m, in \u001b[0;36mextract_docket_info\u001b[1;34m(docket_number)\u001b[0m\n\u001b[0;32m     13\u001b[0m options \u001b[38;5;241m=\u001b[39m Options()\n\u001b[0;32m     14\u001b[0m options\u001b[38;5;241m.\u001b[39madd_argument(\u001b[38;5;124m\"\u001b[39m\u001b[38;5;124m--headless\u001b[39m\u001b[38;5;124m\"\u001b[39m)  \u001b[38;5;66;03m# Run in headless mode\u001b[39;00m\n\u001b[1;32m---> 15\u001b[0m service \u001b[38;5;241m=\u001b[39m Service(\u001b[43mGeckoDriverManager\u001b[49m\u001b[43m(\u001b[49m\u001b[43m)\u001b[49m\u001b[38;5;241;43m.\u001b[39;49m\u001b[43minstall\u001b[49m\u001b[43m(\u001b[49m\u001b[43m)\u001b[49m)\n\u001b[0;32m     17\u001b[0m \u001b[38;5;66;03m# Start a new WebDriver session for each request\u001b[39;00m\n\u001b[0;32m     18\u001b[0m driver \u001b[38;5;241m=\u001b[39m webdriver\u001b[38;5;241m.\u001b[39mFirefox(service\u001b[38;5;241m=\u001b[39mservice, options\u001b[38;5;241m=\u001b[39moptions)\n",
      "File \u001b[1;32m~\\anaconda3\\envs\\selenium_scraper\\lib\\site-packages\\webdriver_manager\\firefox.py:39\u001b[0m, in \u001b[0;36mGeckoDriverManager.install\u001b[1;34m(self)\u001b[0m\n\u001b[0;32m     38\u001b[0m \u001b[38;5;28;01mdef\u001b[39;00m \u001b[38;5;21minstall\u001b[39m(\u001b[38;5;28mself\u001b[39m) \u001b[38;5;241m-\u001b[39m\u001b[38;5;241m>\u001b[39m \u001b[38;5;28mstr\u001b[39m:\n\u001b[1;32m---> 39\u001b[0m     driver_path \u001b[38;5;241m=\u001b[39m \u001b[38;5;28;43mself\u001b[39;49m\u001b[38;5;241;43m.\u001b[39;49m\u001b[43m_get_driver_binary_path\u001b[49m\u001b[43m(\u001b[49m\u001b[38;5;28;43mself\u001b[39;49m\u001b[38;5;241;43m.\u001b[39;49m\u001b[43mdriver\u001b[49m\u001b[43m)\u001b[49m\n\u001b[0;32m     40\u001b[0m     os\u001b[38;5;241m.\u001b[39mchmod(driver_path, \u001b[38;5;241m0o755\u001b[39m)\n\u001b[0;32m     41\u001b[0m     \u001b[38;5;28;01mreturn\u001b[39;00m driver_path\n",
      "File \u001b[1;32m~\\anaconda3\\envs\\selenium_scraper\\lib\\site-packages\\webdriver_manager\\core\\manager.py:35\u001b[0m, in \u001b[0;36mDriverManager._get_driver_binary_path\u001b[1;34m(self, driver)\u001b[0m\n\u001b[0;32m     34\u001b[0m \u001b[38;5;28;01mdef\u001b[39;00m \u001b[38;5;21m_get_driver_binary_path\u001b[39m(\u001b[38;5;28mself\u001b[39m, driver):\n\u001b[1;32m---> 35\u001b[0m     binary_path \u001b[38;5;241m=\u001b[39m \u001b[38;5;28;43mself\u001b[39;49m\u001b[38;5;241;43m.\u001b[39;49m\u001b[43m_cache_manager\u001b[49m\u001b[38;5;241;43m.\u001b[39;49m\u001b[43mfind_driver\u001b[49m\u001b[43m(\u001b[49m\u001b[43mdriver\u001b[49m\u001b[43m)\u001b[49m\n\u001b[0;32m     36\u001b[0m     \u001b[38;5;28;01mif\u001b[39;00m binary_path:\n\u001b[0;32m     37\u001b[0m         \u001b[38;5;28;01mreturn\u001b[39;00m binary_path\n",
      "File \u001b[1;32m~\\anaconda3\\envs\\selenium_scraper\\lib\\site-packages\\webdriver_manager\\core\\driver_cache.py:105\u001b[0m, in \u001b[0;36mDriverCacheManager.find_driver\u001b[1;34m(self, driver)\u001b[0m\n\u001b[0;32m    102\u001b[0m \u001b[38;5;28;01mif\u001b[39;00m \u001b[38;5;129;01mnot\u001b[39;00m browser_version:\n\u001b[0;32m    103\u001b[0m     \u001b[38;5;28;01mreturn\u001b[39;00m \u001b[38;5;28;01mNone\u001b[39;00m\n\u001b[1;32m--> 105\u001b[0m driver_version \u001b[38;5;241m=\u001b[39m \u001b[38;5;28;43mself\u001b[39;49m\u001b[38;5;241;43m.\u001b[39;49m\u001b[43mget_cache_key_driver_version\u001b[49m\u001b[43m(\u001b[49m\u001b[43mdriver\u001b[49m\u001b[43m)\u001b[49m\n\u001b[0;32m    106\u001b[0m metadata \u001b[38;5;241m=\u001b[39m \u001b[38;5;28mself\u001b[39m\u001b[38;5;241m.\u001b[39mload_metadata_content()\n\u001b[0;32m    108\u001b[0m key \u001b[38;5;241m=\u001b[39m \u001b[38;5;28mself\u001b[39m\u001b[38;5;241m.\u001b[39m__get_metadata_key(driver)\n",
      "File \u001b[1;32m~\\anaconda3\\envs\\selenium_scraper\\lib\\site-packages\\webdriver_manager\\core\\driver_cache.py:152\u001b[0m, in \u001b[0;36mDriverCacheManager.get_cache_key_driver_version\u001b[1;34m(self, driver)\u001b[0m\n\u001b[0;32m    150\u001b[0m \u001b[38;5;28;01mif\u001b[39;00m \u001b[38;5;28mself\u001b[39m\u001b[38;5;241m.\u001b[39m_cache_key_driver_version:\n\u001b[0;32m    151\u001b[0m     \u001b[38;5;28;01mreturn\u001b[39;00m \u001b[38;5;28mself\u001b[39m\u001b[38;5;241m.\u001b[39m_cache_key_driver_version\n\u001b[1;32m--> 152\u001b[0m \u001b[38;5;28;01mreturn\u001b[39;00m \u001b[43mdriver\u001b[49m\u001b[38;5;241;43m.\u001b[39;49m\u001b[43mget_driver_version_to_download\u001b[49m\u001b[43m(\u001b[49m\u001b[43m)\u001b[49m\n",
      "File \u001b[1;32m~\\anaconda3\\envs\\selenium_scraper\\lib\\site-packages\\webdriver_manager\\core\\driver.py:48\u001b[0m, in \u001b[0;36mDriver.get_driver_version_to_download\u001b[1;34m(self)\u001b[0m\n\u001b[0;32m     45\u001b[0m \u001b[38;5;28;01mif\u001b[39;00m \u001b[38;5;28mself\u001b[39m\u001b[38;5;241m.\u001b[39m_driver_version_to_download:\n\u001b[0;32m     46\u001b[0m     \u001b[38;5;28;01mreturn\u001b[39;00m \u001b[38;5;28mself\u001b[39m\u001b[38;5;241m.\u001b[39m_driver_version_to_download\n\u001b[1;32m---> 48\u001b[0m \u001b[38;5;28;01mreturn\u001b[39;00m \u001b[38;5;28;43mself\u001b[39;49m\u001b[38;5;241;43m.\u001b[39;49m\u001b[43mget_latest_release_version\u001b[49m\u001b[43m(\u001b[49m\u001b[43m)\u001b[49m\n",
      "File \u001b[1;32m~\\anaconda3\\envs\\selenium_scraper\\lib\\site-packages\\webdriver_manager\\drivers\\firefox.py:29\u001b[0m, in \u001b[0;36mGeckoDriver.get_latest_release_version\u001b[1;34m(self)\u001b[0m\n\u001b[0;32m     27\u001b[0m determined_browser_version \u001b[38;5;241m=\u001b[39m \u001b[38;5;28mself\u001b[39m\u001b[38;5;241m.\u001b[39mget_browser_version_from_os()\n\u001b[0;32m     28\u001b[0m log(\u001b[38;5;124mf\u001b[39m\u001b[38;5;124m\"\u001b[39m\u001b[38;5;124mGet LATEST \u001b[39m\u001b[38;5;132;01m{\u001b[39;00m\u001b[38;5;28mself\u001b[39m\u001b[38;5;241m.\u001b[39m_name\u001b[38;5;132;01m}\u001b[39;00m\u001b[38;5;124m version for \u001b[39m\u001b[38;5;132;01m{\u001b[39;00mdetermined_browser_version\u001b[38;5;132;01m}\u001b[39;00m\u001b[38;5;124m firefox\u001b[39m\u001b[38;5;124m\"\u001b[39m)\n\u001b[1;32m---> 29\u001b[0m resp \u001b[38;5;241m=\u001b[39m \u001b[38;5;28;43mself\u001b[39;49m\u001b[38;5;241;43m.\u001b[39;49m\u001b[43m_http_client\u001b[49m\u001b[38;5;241;43m.\u001b[39;49m\u001b[43mget\u001b[49m\u001b[43m(\u001b[49m\n\u001b[0;32m     30\u001b[0m \u001b[43m    \u001b[49m\u001b[43murl\u001b[49m\u001b[38;5;241;43m=\u001b[39;49m\u001b[38;5;28;43mself\u001b[39;49m\u001b[38;5;241;43m.\u001b[39;49m\u001b[43mlatest_release_url\u001b[49m\u001b[43m,\u001b[49m\n\u001b[0;32m     31\u001b[0m \u001b[43m    \u001b[49m\u001b[43mheaders\u001b[49m\u001b[38;5;241;43m=\u001b[39;49m\u001b[38;5;28;43mself\u001b[39;49m\u001b[38;5;241;43m.\u001b[39;49m\u001b[43mauth_header\u001b[49m\n\u001b[0;32m     32\u001b[0m \u001b[43m\u001b[49m\u001b[43m)\u001b[49m\n\u001b[0;32m     33\u001b[0m \u001b[38;5;28;01mreturn\u001b[39;00m resp\u001b[38;5;241m.\u001b[39mjson()[\u001b[38;5;124m\"\u001b[39m\u001b[38;5;124mtag_name\u001b[39m\u001b[38;5;124m\"\u001b[39m]\n",
      "File \u001b[1;32m~\\anaconda3\\envs\\selenium_scraper\\lib\\site-packages\\webdriver_manager\\core\\http.py:36\u001b[0m, in \u001b[0;36mWDMHttpClient.get\u001b[1;34m(self, url, **kwargs)\u001b[0m\n\u001b[0;32m     34\u001b[0m \u001b[38;5;28;01mexcept\u001b[39;00m exceptions\u001b[38;5;241m.\u001b[39mConnectionError:\n\u001b[0;32m     35\u001b[0m     \u001b[38;5;28;01mraise\u001b[39;00m exceptions\u001b[38;5;241m.\u001b[39mConnectionError(\u001b[38;5;124mf\u001b[39m\u001b[38;5;124m\"\u001b[39m\u001b[38;5;124mCould not reach host. Are you offline?\u001b[39m\u001b[38;5;124m\"\u001b[39m)\n\u001b[1;32m---> 36\u001b[0m \u001b[38;5;28;43mself\u001b[39;49m\u001b[38;5;241;43m.\u001b[39;49m\u001b[43mvalidate_response\u001b[49m\u001b[43m(\u001b[49m\u001b[43mresp\u001b[49m\u001b[43m)\u001b[49m\n\u001b[0;32m     37\u001b[0m \u001b[38;5;28;01mreturn\u001b[39;00m resp\n",
      "File \u001b[1;32m~\\anaconda3\\envs\\selenium_scraper\\lib\\site-packages\\webdriver_manager\\core\\http.py:19\u001b[0m, in \u001b[0;36mHttpClient.validate_response\u001b[1;34m(resp)\u001b[0m\n\u001b[0;32m     17\u001b[0m     \u001b[38;5;28;01mraise\u001b[39;00m \u001b[38;5;167;01mValueError\u001b[39;00m(\u001b[38;5;124mf\u001b[39m\u001b[38;5;124m\"\u001b[39m\u001b[38;5;124mAPI Rate limit exceeded. You have to add GH_TOKEN!!!\u001b[39m\u001b[38;5;124m\"\u001b[39m)\n\u001b[0;32m     18\u001b[0m \u001b[38;5;28;01melif\u001b[39;00m resp\u001b[38;5;241m.\u001b[39mstatus_code \u001b[38;5;241m!=\u001b[39m \u001b[38;5;241m200\u001b[39m:\n\u001b[1;32m---> 19\u001b[0m     \u001b[38;5;28;01mraise\u001b[39;00m \u001b[38;5;167;01mValueError\u001b[39;00m(\n\u001b[0;32m     20\u001b[0m         \u001b[38;5;124mf\u001b[39m\u001b[38;5;124m\"\u001b[39m\u001b[38;5;124mresponse body:\u001b[39m\u001b[38;5;130;01m\\n\u001b[39;00m\u001b[38;5;132;01m{\u001b[39;00mresp\u001b[38;5;241m.\u001b[39mtext\u001b[38;5;132;01m}\u001b[39;00m\u001b[38;5;130;01m\\n\u001b[39;00m\u001b[38;5;124m\"\u001b[39m\n\u001b[0;32m     21\u001b[0m         \u001b[38;5;124mf\u001b[39m\u001b[38;5;124m\"\u001b[39m\u001b[38;5;124mrequest url:\u001b[39m\u001b[38;5;130;01m\\n\u001b[39;00m\u001b[38;5;132;01m{\u001b[39;00mresp\u001b[38;5;241m.\u001b[39mrequest\u001b[38;5;241m.\u001b[39murl\u001b[38;5;132;01m}\u001b[39;00m\u001b[38;5;130;01m\\n\u001b[39;00m\u001b[38;5;124m\"\u001b[39m\n\u001b[0;32m     22\u001b[0m         \u001b[38;5;124mf\u001b[39m\u001b[38;5;124m\"\u001b[39m\u001b[38;5;124mresponse headers:\u001b[39m\u001b[38;5;130;01m\\n\u001b[39;00m\u001b[38;5;132;01m{\u001b[39;00m\u001b[38;5;28mdict\u001b[39m(resp\u001b[38;5;241m.\u001b[39mheaders)\u001b[38;5;132;01m}\u001b[39;00m\u001b[38;5;130;01m\\n\u001b[39;00m\u001b[38;5;124m\"\u001b[39m\n\u001b[0;32m     23\u001b[0m     )\n",
      "\u001b[1;31mValueError\u001b[0m: response body:\n{\"message\":\"API rate limit exceeded for 47.230.208.158. (But here's the good news: Authenticated requests get a higher rate limit. Check out the documentation for more details.)\",\"documentation_url\":\"https://docs.github.com/rest/overview/resources-in-the-rest-api#rate-limiting\"}\n\nrequest url:\nhttps://api.github.com/repos/mozilla/geckodriver/releases/latest\nresponse headers:\n{'Date': 'Mon, 10 Mar 2025 00:08:53 GMT', 'Server': 'Varnish', 'Strict-Transport-Security': 'max-age=31536000; includeSubdomains; preload', 'X-Content-Type-Options': 'nosniff', 'X-Frame-Options': 'deny', 'X-XSS-Protection': '1; mode=block', 'Content-Security-Policy': \"default-src 'none'; style-src 'unsafe-inline'\", 'Access-Control-Allow-Origin': '*', 'Access-Control-Expose-Headers': 'ETag, Link, Location, Retry-After, X-GitHub-OTP, X-RateLimit-Limit, X-RateLimit-Remaining, X-RateLimit-Reset, X-RateLimit-Used, X-RateLimit-Resource, X-OAuth-Scopes, X-Accepted-OAuth-Scopes, X-Poll-Interval, X-GitHub-Media-Type, Deprecation, Sunset', 'Content-Type': 'application/json; charset=utf-8', 'Referrer-Policy': 'origin-when-cross-origin, strict-origin-when-cross-origin', 'X-GitHub-Media-Type': 'github.v3; format=json', 'X-RateLimit-Limit': '60', 'X-RateLimit-Remaining': '0', 'X-RateLimit-Reset': '1741567739', 'X-RateLimit-Resource': 'core', 'X-RateLimit-Used': '60', 'Content-Length': '280', 'X-GitHub-Request-Id': '5DCB:340C96:1DB5176:3C14630:67CE2D95'}\n"
     ]
    }
   ],
   "source": [
    "from tqdm import tqdm\n",
    "\n",
    "cases_list = []\n",
    "for docket in tqdm(unique_docket_nums):\n",
    "    case_data = extract_docket_info(docket)\n",
    "    cases_list.append(case_data)\n",
    "    \n",
    "    # Random sleep to avoid being blocked\n",
    "    sleep_time = random.uniform(1, 2)\n",
    "    # print(f\"Sleeping for {sleep_time:.2f} seconds...\")\n",
    "    time.sleep(sleep_time)\n",
    "\n",
    "# Convert to DataFrame\n",
    "df_meta = pd.DataFrame(cases_list)"
   ]
  },
  {
   "cell_type": "code",
   "execution_count": null,
   "id": "d9507611-9ec5-4d89-829e-43b00d5fa07a",
   "metadata": {},
   "outputs": [],
   "source": [
    "print(df_meta.head())"
   ]
  },
  {
   "cell_type": "code",
   "execution_count": 50,
   "id": "bf3ffcbf-1264-427f-9bd2-986b882266b4",
   "metadata": {},
   "outputs": [],
   "source": [
    "import requests\n",
    "from bs4 import BeautifulSoup\n",
    "import json\n",
    "\n",
    "test_name = test_data[\"title\"].replace(\"\\n\", \"\")\n",
    "search_endpoint = f\"https://www.courtlistener.com/api/rest/v4/search/?q={test_name}\"\n",
    "docket_endpoint = f\"https://www.courtlistener.com/api/rest/v4/dockets/?docket_number={test_num}&court=scotus\"\n",
    "\n",
    "headers = {\n",
    "    'Authorization': f'Token {api_token}',\n",
    "    'User-Agent': 'Mozilla/5.0 (Windows NT 10.0; Win64; x64) AppleWebKit/537.36 (KHTML, like Gecko) Chrome/92.0.4515.107 Safari/537.36'\n",
    "}\n",
    "\n",
    "url = docket_endpoint\n",
    "test_response = requests.get(url, headers=headers)"
   ]
  },
  {
   "cell_type": "code",
   "execution_count": 52,
   "id": "979e32f5-ce1e-4178-974a-831cf2fba9a7",
   "metadata": {},
   "outputs": [
    {
     "name": "stdout",
     "output_type": "stream",
     "text": [
      "20-5279\n",
      "<Response [200]>\n"
     ]
    }
   ],
   "source": [
    "print(test_num)\n",
    "print(test_response)"
   ]
  },
  {
   "cell_type": "code",
   "execution_count": 53,
   "id": "658ae2f3-267a-40fd-becc-5e92624305d5",
   "metadata": {},
   "outputs": [
    {
     "name": "stdout",
     "output_type": "stream",
     "text": [
      "{\n",
      "    \"count\": \"https://www.courtlistener.com/api/rest/v4/dockets/?count=on&court=scotus&docket_number=20-5279\",\n",
      "    \"next\": null,\n",
      "    \"previous\": null,\n",
      "    \"results\": [\n",
      "        {\n",
      "            \"resource_uri\": \"https://www.courtlistener.com/api/rest/v4/dockets/63141398/\",\n",
      "            \"id\": 63141398,\n",
      "            \"court\": \"https://www.courtlistener.com/api/rest/v4/courts/scotus/\",\n",
      "            \"court_id\": \"scotus\",\n",
      "            \"original_court_info\": null,\n",
      "            \"idb_data\": null,\n",
      "            \"clusters\": [\n",
      "                \"https://www.courtlistener.com/api/rest/v4/clusters/6448935/\"\n",
      "            ],\n",
      "            \"audio_files\": [],\n",
      "            \"assigned_to\": null,\n",
      "            \"referred_to\": null,\n",
      "            \"absolute_url\": \"/docket/63141398/wooden-v-united-states/\",\n",
      "            \"date_created\": \"2022-03-08T07:00:52.025655-08:00\",\n",
      "            \"date_modified\": \"2022-03-08T07:00:52.852569-08:00\",\n",
      "            \"source\": 2,\n",
      "            \"appeal_from_str\": \"\",\n",
      "            \"assigned_to_str\": \"\",\n",
      "            \"referred_to_str\": \"\",\n",
      "            \"panel_str\": \"\",\n",
      "            \"date_last_index\": null,\n",
      "            \"date_cert_granted\": null,\n",
      "            \"date_cert_denied\": null,\n",
      "            \"date_argued\": null,\n",
      "            \"date_reargued\": null,\n",
      "            \"date_reargument_denied\": null,\n",
      "            \"date_filed\": null,\n",
      "            \"date_terminated\": null,\n",
      "            \"date_last_filing\": null,\n",
      "            \"case_name_short\": \"Wooden\",\n",
      "            \"case_name\": \"Wooden v. United States\",\n",
      "            \"case_name_full\": \"\",\n",
      "            \"slug\": \"wooden-v-united-states\",\n",
      "            \"docket_number\": \"20-5279\",\n",
      "            \"docket_number_core\": \"20005279\",\n",
      "            \"federal_dn_office_code\": \"\",\n",
      "            \"federal_dn_case_type\": \"\",\n",
      "            \"federal_dn_judge_initials_assigned\": \"\",\n",
      "            \"federal_dn_judge_initials_referred\": \"\",\n",
      "            \"federal_defendant_number\": null,\n",
      "            \"pacer_case_id\": \"\",\n",
      "            \"cause\": \"\",\n",
      "            \"nature_of_suit\": \"\",\n",
      "            \"jury_demand\": \"\",\n",
      "            \"jurisdiction_type\": \"\",\n",
      "            \"appellate_fee_status\": \"\",\n",
      "            \"appellate_case_type_information\": \"\",\n",
      "            \"mdl_status\": \"\",\n",
      "            \"filepath_ia\": \"\",\n",
      "            \"filepath_ia_json\": \"\",\n",
      "            \"ia_upload_failure_count\": null,\n",
      "            \"ia_needs_upload\": null,\n",
      "            \"ia_date_first_change\": null,\n",
      "            \"date_blocked\": null,\n",
      "            \"blocked\": false,\n",
      "            \"appeal_from\": null,\n",
      "            \"parent_docket\": null,\n",
      "            \"tags\": [],\n",
      "            \"panel\": []\n",
      "        },\n",
      "        {\n",
      "            \"resource_uri\": \"https://www.courtlistener.com/api/rest/v4/dockets/63141397/\",\n",
      "            \"id\": 63141397,\n",
      "            \"court\": \"https://www.courtlistener.com/api/rest/v4/courts/scotus/\",\n",
      "            \"court_id\": \"scotus\",\n",
      "            \"original_court_info\": null,\n",
      "            \"idb_data\": null,\n",
      "            \"clusters\": [\n",
      "                \"https://www.courtlistener.com/api/rest/v4/clusters/6448934/\"\n",
      "            ],\n",
      "            \"audio_files\": [],\n",
      "            \"assigned_to\": null,\n",
      "            \"referred_to\": null,\n",
      "            \"absolute_url\": \"/docket/63141397/wooden-v-united-states/\",\n",
      "            \"date_created\": \"2022-03-08T07:00:51.519167-08:00\",\n",
      "            \"date_modified\": \"2022-03-08T07:00:52.812157-08:00\",\n",
      "            \"source\": 2,\n",
      "            \"appeal_from_str\": \"\",\n",
      "            \"assigned_to_str\": \"\",\n",
      "            \"referred_to_str\": \"\",\n",
      "            \"panel_str\": \"\",\n",
      "            \"date_last_index\": null,\n",
      "            \"date_cert_granted\": null,\n",
      "            \"date_cert_denied\": null,\n",
      "            \"date_argued\": null,\n",
      "            \"date_reargued\": null,\n",
      "            \"date_reargument_denied\": null,\n",
      "            \"date_filed\": null,\n",
      "            \"date_terminated\": null,\n",
      "            \"date_last_filing\": null,\n",
      "            \"case_name_short\": \"Wooden\",\n",
      "            \"case_name\": \"Wooden v. United States\",\n",
      "            \"case_name_full\": \"\",\n",
      "            \"slug\": \"wooden-v-united-states\",\n",
      "            \"docket_number\": \"20-5279\",\n",
      "            \"docket_number_core\": \"20005279\",\n",
      "            \"federal_dn_office_code\": \"\",\n",
      "            \"federal_dn_case_type\": \"\",\n",
      "            \"federal_dn_judge_initials_assigned\": \"\",\n",
      "            \"federal_dn_judge_initials_referred\": \"\",\n",
      "            \"federal_defendant_number\": null,\n",
      "            \"pacer_case_id\": \"\",\n",
      "            \"cause\": \"\",\n",
      "            \"nature_of_suit\": \"\",\n",
      "            \"jury_demand\": \"\",\n",
      "            \"jurisdiction_type\": \"\",\n",
      "            \"appellate_fee_status\": \"\",\n",
      "            \"appellate_case_type_information\": \"\",\n",
      "            \"mdl_status\": \"\",\n",
      "            \"filepath_ia\": \"\",\n",
      "            \"filepath_ia_json\": \"\",\n",
      "            \"ia_upload_failure_count\": null,\n",
      "            \"ia_needs_upload\": null,\n",
      "            \"ia_date_first_change\": null,\n",
      "            \"date_blocked\": null,\n",
      "            \"blocked\": false,\n",
      "            \"appeal_from\": null,\n",
      "            \"parent_docket\": null,\n",
      "            \"tags\": [],\n",
      "            \"panel\": []\n",
      "        },\n",
      "        {\n",
      "            \"resource_uri\": \"https://www.courtlistener.com/api/rest/v4/dockets/63138379/\",\n",
      "            \"id\": 63138379,\n",
      "            \"court\": \"https://www.courtlistener.com/api/rest/v4/courts/scotus/\",\n",
      "            \"court_id\": \"scotus\",\n",
      "            \"original_court_info\": null,\n",
      "            \"idb_data\": null,\n",
      "            \"clusters\": [\n",
      "                \"https://www.courtlistener.com/api/rest/v4/clusters/6448616/\"\n",
      "            ],\n",
      "            \"audio_files\": [],\n",
      "            \"assigned_to\": null,\n",
      "            \"referred_to\": null,\n",
      "            \"absolute_url\": \"/docket/63138379/wooden-v-united-states/\",\n",
      "            \"date_created\": \"2022-03-07T07:01:40.239829-08:00\",\n",
      "            \"date_modified\": \"2022-03-07T07:01:40.957943-08:00\",\n",
      "            \"source\": 2,\n",
      "            \"appeal_from_str\": \"\",\n",
      "            \"assigned_to_str\": \"\",\n",
      "            \"referred_to_str\": \"\",\n",
      "            \"panel_str\": \"\",\n",
      "            \"date_last_index\": null,\n",
      "            \"date_cert_granted\": null,\n",
      "            \"date_cert_denied\": null,\n",
      "            \"date_argued\": null,\n",
      "            \"date_reargued\": null,\n",
      "            \"date_reargument_denied\": null,\n",
      "            \"date_filed\": null,\n",
      "            \"date_terminated\": null,\n",
      "            \"date_last_filing\": null,\n",
      "            \"case_name_short\": \"Wooden\",\n",
      "            \"case_name\": \"Wooden v. United States\",\n",
      "            \"case_name_full\": \"\",\n",
      "            \"slug\": \"wooden-v-united-states\",\n",
      "            \"docket_number\": \"20-5279\",\n",
      "            \"docket_number_core\": \"20005279\",\n",
      "            \"federal_dn_office_code\": \"\",\n",
      "            \"federal_dn_case_type\": \"\",\n",
      "            \"federal_dn_judge_initials_assigned\": \"\",\n",
      "            \"federal_dn_judge_initials_referred\": \"\",\n",
      "            \"federal_defendant_number\": null,\n",
      "            \"pacer_case_id\": \"\",\n",
      "            \"cause\": \"\",\n",
      "            \"nature_of_suit\": \"\",\n",
      "            \"jury_demand\": \"\",\n",
      "            \"jurisdiction_type\": \"\",\n",
      "            \"appellate_fee_status\": \"\",\n",
      "            \"appellate_case_type_information\": \"\",\n",
      "            \"mdl_status\": \"\",\n",
      "            \"filepath_ia\": \"\",\n",
      "            \"filepath_ia_json\": \"\",\n",
      "            \"ia_upload_failure_count\": null,\n",
      "            \"ia_needs_upload\": null,\n",
      "            \"ia_date_first_change\": null,\n",
      "            \"date_blocked\": null,\n",
      "            \"blocked\": false,\n",
      "            \"appeal_from\": null,\n",
      "            \"parent_docket\": null,\n",
      "            \"tags\": [],\n",
      "            \"panel\": []\n",
      "        },\n",
      "        {\n",
      "            \"resource_uri\": \"https://www.courtlistener.com/api/rest/v4/dockets/60621924/\",\n",
      "            \"id\": 60621924,\n",
      "            \"court\": \"https://www.courtlistener.com/api/rest/v4/courts/scotus/\",\n",
      "            \"court_id\": \"scotus\",\n",
      "            \"original_court_info\": null,\n",
      "            \"idb_data\": null,\n",
      "            \"clusters\": [],\n",
      "            \"audio_files\": [\n",
      "                \"https://www.courtlistener.com/api/rest/v4/audio/77874/\"\n",
      "            ],\n",
      "            \"assigned_to\": null,\n",
      "            \"referred_to\": null,\n",
      "            \"absolute_url\": \"/docket/60621924/wooden-v-united-states/\",\n",
      "            \"date_created\": \"2021-10-04T11:47:37.452124-07:00\",\n",
      "            \"date_modified\": \"2021-10-04T11:47:37.452161-07:00\",\n",
      "            \"source\": 2,\n",
      "            \"appeal_from_str\": \"\",\n",
      "            \"assigned_to_str\": \"\",\n",
      "            \"referred_to_str\": \"\",\n",
      "            \"panel_str\": \"\",\n",
      "            \"date_last_index\": null,\n",
      "            \"date_cert_granted\": null,\n",
      "            \"date_cert_denied\": null,\n",
      "            \"date_argued\": \"2021-10-04\",\n",
      "            \"date_reargued\": null,\n",
      "            \"date_reargument_denied\": null,\n",
      "            \"date_filed\": null,\n",
      "            \"date_terminated\": null,\n",
      "            \"date_last_filing\": null,\n",
      "            \"case_name_short\": \"Wooden\",\n",
      "            \"case_name\": \"Wooden v. United States\",\n",
      "            \"case_name_full\": \"\",\n",
      "            \"slug\": \"wooden-v-united-states\",\n",
      "            \"docket_number\": \"20-5279\",\n",
      "            \"docket_number_core\": \"20005279\",\n",
      "            \"federal_dn_office_code\": \"\",\n",
      "            \"federal_dn_case_type\": \"\",\n",
      "            \"federal_dn_judge_initials_assigned\": \"\",\n",
      "            \"federal_dn_judge_initials_referred\": \"\",\n",
      "            \"federal_defendant_number\": null,\n",
      "            \"pacer_case_id\": \"\",\n",
      "            \"cause\": \"\",\n",
      "            \"nature_of_suit\": \"\",\n",
      "            \"jury_demand\": \"\",\n",
      "            \"jurisdiction_type\": \"\",\n",
      "            \"appellate_fee_status\": \"\",\n",
      "            \"appellate_case_type_information\": \"\",\n",
      "            \"mdl_status\": \"\",\n",
      "            \"filepath_ia\": \"\",\n",
      "            \"filepath_ia_json\": \"\",\n",
      "            \"ia_upload_failure_count\": null,\n",
      "            \"ia_needs_upload\": null,\n",
      "            \"ia_date_first_change\": null,\n",
      "            \"date_blocked\": null,\n",
      "            \"blocked\": false,\n",
      "            \"appeal_from\": null,\n",
      "            \"parent_docket\": null,\n",
      "            \"tags\": [],\n",
      "            \"panel\": []\n",
      "        }\n",
      "    ]\n",
      "}\n"
     ]
    }
   ],
   "source": [
    "main_data = test_response.json()\n",
    "print(json.dumps(main_data, indent=4))"
   ]
  },
  {
   "cell_type": "code",
   "execution_count": 86,
   "id": "5b6a98f8-4892-4c17-8c3e-66fdadde4b7f",
   "metadata": {},
   "outputs": [],
   "source": [
    "import requests\n",
    "from bs4 import BeautifulSoup\n",
    "import json\n",
    "\n",
    "def download_cl_id(docket_num):\n",
    "    docket_endpoint = f\"https://www.courtlistener.com/api/rest/v4/dockets/?docket_number={docket_num}&court=scotus\"\n",
    "    \n",
    "    headers = {\n",
    "        'Authorization': f'Token {api_token}',\n",
    "        'User-Agent': 'Mozilla/5.0 (Windows NT 10.0; Win64; x64) AppleWebKit/537.36 (KHTML, like Gecko) Chrome/92.0.4515.107 Safari/537.36'\n",
    "    }\n",
    "    \n",
    "    url = docket_endpoint\n",
    "    try:\n",
    "        response = requests.get(url, headers=headers)\n",
    "        if response.status_code == 200:\n",
    "            data = response.json()\n",
    "        \n",
    "            return data[\"results\"][0][\"id\"]\n",
    "        else:\n",
    "            return None\n",
    "    except Exception as e:\n",
    "        print(f\"Error downloading courtlistner id for {docket_num}: {str(e)}\")\n",
    "\n",
    "    return None"
   ]
  },
  {
   "cell_type": "code",
   "execution_count": 87,
   "id": "027a7379-4c1a-4c7f-88ce-406b923bfd64",
   "metadata": {},
   "outputs": [
    {
     "name": "stdout",
     "output_type": "stream",
     "text": [
      "63134644\n",
      "<class 'int'>\n"
     ]
    }
   ],
   "source": [
    "test_cl_id = download_cl_id(test_num)\n",
    "print(test_cl_id)\n",
    "print(type(test_cl_id))"
   ]
  },
  {
   "cell_type": "code",
   "execution_count": 89,
   "id": "c076c7fd-590a-4031-bc65-1ba8be8f724e",
   "metadata": {},
   "outputs": [],
   "source": [
    "def get_num_cited(cl_id):\n",
    "    cited_endpoint = f\"https://www.courtlistener.com/api/rest/v4/opinions-cited/?cited_opinion={cl_id}&count=on\"\n",
    "\n",
    "    headers = {\n",
    "        'Authorization': f'Token {api_token}',\n",
    "        'User-Agent': 'Mozilla/5.0 (Windows NT 10.0; Win64; x64) AppleWebKit/537.36 (KHTML, like Gecko) Chrome/92.0.4515.107 Safari/537.36'\n",
    "    }\n",
    "\n",
    "    url = cited_endpoint\n",
    "    try:\n",
    "        response = requests.get(url, headers=headers)\n",
    "        # print(response)\n",
    "        if response.status_code == 200:\n",
    "            \n",
    "            data = response.json()\n",
    "            # print(json.dumps(data, indent=4))\n",
    "            return data[\"count\"]\n",
    "        else:\n",
    "            return 0\n",
    "    except Exception as e:\n",
    "        print(f\"Error downloading number of citations for {cl_id}: {str(e)}\")\n",
    "\n",
    "    return 0"
   ]
  },
  {
   "cell_type": "code",
   "execution_count": 90,
   "id": "ba11c436-9432-4403-9fcf-a93ffc64b22a",
   "metadata": {},
   "outputs": [
    {
     "name": "stdout",
     "output_type": "stream",
     "text": [
      "0\n"
     ]
    }
   ],
   "source": [
    "print(get_num_cited(test_cl_id)) # 2812209 is the id for Obergafel"
   ]
  },
  {
   "cell_type": "code",
   "execution_count": 91,
   "id": "35bd18df-470a-487e-89dc-0aa8bcdf1abf",
   "metadata": {},
   "outputs": [
    {
     "name": "stderr",
     "output_type": "stream",
     "text": [
      " 24%|██▍       | 86/354 [03:32<10:44,  2.41s/it]"
     ]
    },
    {
     "name": "stdout",
     "output_type": "stream",
     "text": [
      "Error downloading courtlistner id for None: list index out of range\n"
     ]
    },
    {
     "name": "stderr",
     "output_type": "stream",
     "text": [
      " 32%|███▏      | 112/354 [04:17<07:34,  1.88s/it]"
     ]
    },
    {
     "name": "stdout",
     "output_type": "stream",
     "text": [
      "Error downloading courtlistner id for 20-499: list index out of range\n"
     ]
    },
    {
     "name": "stderr",
     "output_type": "stream",
     "text": [
      " 52%|█████▏    | 183/354 [07:29<05:28,  1.92s/it]"
     ]
    },
    {
     "name": "stdout",
     "output_type": "stream",
     "text": [
      "Error downloading courtlistner id for 18-921: list index out of range\n"
     ]
    },
    {
     "name": "stderr",
     "output_type": "stream",
     "text": [
      " 62%|██████▏   | 219/354 [08:42<04:06,  1.82s/it]"
     ]
    },
    {
     "name": "stdout",
     "output_type": "stream",
     "text": [
      "Error downloading courtlistner id for 17-467: list index out of range\n"
     ]
    },
    {
     "name": "stderr",
     "output_type": "stream",
     "text": [
      " 74%|███████▍  | 262/354 [09:50<02:22,  1.55s/it]"
     ]
    },
    {
     "name": "stdout",
     "output_type": "stream",
     "text": [
      "Error downloading courtlistner id for 18-8332: list index out of range\n"
     ]
    },
    {
     "name": "stderr",
     "output_type": "stream",
     "text": [
      " 74%|███████▍  | 263/354 [09:51<02:23,  1.58s/it]"
     ]
    },
    {
     "name": "stdout",
     "output_type": "stream",
     "text": [
      "Error downloading courtlistner id for 18-761: list index out of range\n"
     ]
    },
    {
     "name": "stderr",
     "output_type": "stream",
     "text": [
      " 80%|███████▉  | 282/354 [10:25<02:11,  1.82s/it]"
     ]
    },
    {
     "name": "stdout",
     "output_type": "stream",
     "text": [
      "Error downloading courtlistner id for 18-364: list index out of range\n"
     ]
    },
    {
     "name": "stderr",
     "output_type": "stream",
     "text": [
      " 83%|████████▎ | 294/354 [10:51<03:01,  3.02s/it]"
     ]
    },
    {
     "name": "stdout",
     "output_type": "stream",
     "text": [
      "Error downloading courtlistner id for 18-12: list index out of range\n"
     ]
    },
    {
     "name": "stderr",
     "output_type": "stream",
     "text": [
      " 88%|████████▊ | 312/354 [11:24<01:09,  1.64s/it]"
     ]
    },
    {
     "name": "stdout",
     "output_type": "stream",
     "text": [
      "Error downloading courtlistner id for 17-1676: list index out of range\n"
     ]
    },
    {
     "name": "stderr",
     "output_type": "stream",
     "text": [
      " 88%|████████▊ | 313/354 [11:26<01:06,  1.62s/it]"
     ]
    },
    {
     "name": "stdout",
     "output_type": "stream",
     "text": [
      "Error downloading courtlistner id for 18-5181: list index out of range\n"
     ]
    },
    {
     "name": "stderr",
     "output_type": "stream",
     "text": [
      " 89%|████████▉ | 315/354 [11:29<01:02,  1.60s/it]"
     ]
    },
    {
     "name": "stdout",
     "output_type": "stream",
     "text": [
      "Error downloading courtlistner id for 17-7894: list index out of range\n"
     ]
    },
    {
     "name": "stderr",
     "output_type": "stream",
     "text": [
      " 90%|████████▉ | 317/354 [11:32<00:58,  1.57s/it]"
     ]
    },
    {
     "name": "stdout",
     "output_type": "stream",
     "text": [
      "Error downloading courtlistner id for 17-1284: list index out of range\n"
     ]
    },
    {
     "name": "stderr",
     "output_type": "stream",
     "text": [
      " 91%|█████████ | 321/354 [11:39<00:57,  1.73s/it]"
     ]
    },
    {
     "name": "stdout",
     "output_type": "stream",
     "text": [
      "Error downloading courtlistner id for 17-1364: list index out of range\n"
     ]
    },
    {
     "name": "stderr",
     "output_type": "stream",
     "text": [
      " 98%|█████████▊| 347/354 [12:44<00:43,  6.24s/it]"
     ]
    },
    {
     "name": "stdout",
     "output_type": "stream",
     "text": [
      "Error downloading courtlistner id for 17-654: list index out of range\n"
     ]
    },
    {
     "name": "stderr",
     "output_type": "stream",
     "text": [
      "100%|██████████| 354/354 [12:56<00:00,  2.19s/it]\n"
     ]
    }
   ],
   "source": [
    "tqdm.pandas()\n",
    "\n",
    "# Function to modify each row\n",
    "def process_row(row):\n",
    "    docket_num = row[\"docket_num\"]\n",
    "    cl_id = download_cl_id(docket_num)\n",
    "    row[\"cl_id\"] = cl_id\n",
    "    row[\"time_cited\"] = get_num_cited(cl_id)\n",
    "    return row\n",
    "\n",
    "# Apply the function with a progress bar\n",
    "new_df = new_df.progress_apply(process_row, axis=1)"
   ]
  },
  {
   "cell_type": "code",
   "execution_count": 99,
   "id": "b12b34d8-b1e0-4127-a580-4ffc00938869",
   "metadata": {},
   "outputs": [
    {
     "name": "stderr",
     "output_type": "stream",
     "text": [
      "C:\\Users\\jwwoo\\AppData\\Local\\Temp\\ipykernel_12372\\163536240.py:3: FutureWarning: Downcasting object dtype arrays on .fillna, .ffill, .bfill is deprecated and will change in a future version. Call result.infer_objects(copy=False) instead. To opt-in to the future behavior, set `pd.set_option('future.no_silent_downcasting', True)`\n",
      "  data = new_df[\"times_cited\"].fillna(0)\n"
     ]
    },
    {
     "data": {
      "image/png": "[encoded data removed]",
      "text/plain": [
       "<Figure size 1000x600 with 1 Axes>"
      ]
     },
     "metadata": {},
     "output_type": "display_data"
    }
   ],
   "source": [
    "import matplotlib.pyplot as plt\n",
    "\n",
    "data = new_df[\"times_cited\"].fillna(0)\n",
    "\n",
    "plt.figure(figsize=(10, 6))\n",
    "plt.hist(data, bins=range(0, int(data.max()) + 2), edgecolor=\"black\", align=\"left\")\n",
    "\n",
    "# Labels and title\n",
    "plt.xlabel(\"Times Cited\")\n",
    "plt.ylabel(\"Frequency\")\n",
    "plt.title(\"Histogram of Times Cited Values\")\n",
    "\n",
    "plt.show()"
   ]
  },
  {
   "cell_type": "code",
   "execution_count": 100,
   "id": "cb95627c-cd4d-413e-a22b-fb173a75d399",
   "metadata": {},
   "outputs": [
    {
     "name": "stdout",
     "output_type": "stream",
     "text": [
      "0\n"
     ]
    }
   ],
   "source": [
    "print(data.max())"
   ]
  },
  {
   "cell_type": "code",
   "execution_count": null,
   "id": "f8ecb0e8-9e3c-4803-a961-e61b9404be29",
   "metadata": {},
   "outputs": [],
   "source": []
  }
 ],
 "metadata": {
  "kernelspec": {
   "display_name": "Python 3 (ipykernel)",
   "language": "python",
   "name": "python3"
  },
  "language_info": {
   "codemirror_mode": {
    "name": "ipython",
    "version": 3
   },
   "file_extension": ".py",
   "mimetype": "text/x-python",
   "name": "python",
   "nbconvert_exporter": "python",
   "pygments_lexer": "ipython3",
   "version": "3.9.19"
  }
 },
 "nbformat": 4,
 "nbformat_minor": 5
}
