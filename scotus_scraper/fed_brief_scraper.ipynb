{
 "cells": [
  {
   "cell_type": "markdown",
   "id": "93dea3b4-3e0f-443c-a6f2-c52cd0778d9d",
   "metadata": {},
   "source": [
    "A notebook to scrape federal appellate briefs from court listener"
   ]
  },
  {
   "cell_type": "code",
   "execution_count": 1,
   "id": "4a4d6556-589c-4821-9bd0-dabb284f2dbe",
   "metadata": {},
   "outputs": [],
   "source": [
    "search_endpoint = \"https://www.courtlistener.com/api/rest/v3/search/?q=&type=r&order_by=score%20desc&available_only=on&description=%22brief%22%20-%22appendix%22%20-%22Motion%22%20-%22scheduling%22%20-%22order%22%20-%22notice%22%20-%22defective%22%20-%22letter%22%20-%22attachment%22%20-%22addendum%22&court=ca1%20ca2%20ca3%20ca4%20ca5%20ca6%20ca7%20ca8%20ca9%20ca10%20ca11%20cadc%20cafc\""
   ]
  },
  {
   "cell_type": "code",
   "execution_count": null,
   "id": "c664f365-afa1-4717-a34e-5d90f00acd7a",
   "metadata": {},
   "outputs": [],
   "source": [
    "token_file_path = './court_listener_token.txt'  # Adjust the path if the file is in a different directory\n",
    "\n",
    "with open(token_file_path, 'r') as file:\n",
    "    api_token = file.read().strip()"
   ]
  },
  {
   "cell_type": "code",
   "execution_count": null,
   "id": "08f11a75-81e1-425f-9a83-3d9dbb001b0f",
   "metadata": {},
   "outputs": [],
   "source": [
    "headers = {\n",
    "    'Authorization': f'Token {api_token}'\n",
    "}"
   ]
  },
  {
   "cell_type": "code",
   "execution_count": null,
   "id": "5acbe152-7432-4377-a23a-74b623a82507",
   "metadata": {},
   "outputs": [],
   "source": [
    "import requests\n",
    "\n",
    "search_res = requests.get()"
   ]
  }
 ],
 "metadata": {
  "kernelspec": {
   "display_name": "Python 3 (ipykernel)",
   "language": "python",
   "name": "python3"
  },
  "language_info": {
   "codemirror_mode": {
    "name": "ipython",
    "version": 3
   },
   "file_extension": ".py",
   "mimetype": "text/x-python",
   "name": "python",
   "nbconvert_exporter": "python",
   "pygments_lexer": "ipython3",
   "version": "3.9.19"
  }
 },
 "nbformat": 4,
 "nbformat_minor": 5
}
