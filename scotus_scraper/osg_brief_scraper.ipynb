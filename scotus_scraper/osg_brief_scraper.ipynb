{
 "cells": [
  {
   "cell_type": "markdown",
   "metadata": {
    "id": "wwEssx7WNwn-"
   },
   "source": [
    "Docket numbers retrieved manually from the list maintained by findlaw.com. Only cases decided in 2018 and onward have their documents hosted on the Scotus website. Briefs from 2012 term onward are stored on scotusblog.com, although some of them are in a very messy format (i.e. a picture of a scanned document). Prior briefs used to be hosted by the ABA but they took them down."
   ]
  },
  {
   "cell_type": "code",
   "execution_count": 1,
   "metadata": {
    "id": "Lw-88iQWBRha"
   },
   "outputs": [],
   "source": [
    "docket_nos_path = \"./docket_nos_valid.txt\""
   ]
  },
  {
   "cell_type": "code",
   "execution_count": 2,
   "metadata": {
    "colab": {
     "base_uri": "https://localhost:8080/"
    },
    "id": "axmLJQzeBjES",
    "outputId": "03e4e86d-2d14-4080-a530-8787c0c63cd6"
   },
   "outputs": [
    {
     "name": "stdout",
     "output_type": "stream",
     "text": [
      "  docket_number  year url_list caption brief_type subject filing_date\n",
      "0         17-71  2018      NaN     NaN        NaN     NaN         NaN\n",
      "1       17-1676  2018      NaN     NaN        NaN     NaN         NaN\n",
      "2       18-5181  2018      NaN     NaN        NaN     NaN         NaN\n",
      "3        17-587  2018      NaN     NaN        NaN     NaN         NaN\n",
      "4       17-7894  2018      NaN     NaN        NaN     NaN         NaN\n"
     ]
    }
   ],
   "source": [
    "import pandas as pd\n",
    "import re\n",
    "\n",
    "df = pd.DataFrame(columns=['docket_number', 'year', 'url_list', 'caption', 'brief_type', 'subject', 'filing_date'])\n",
    "\n",
    "current_year = None\n",
    "rows = [] \n",
    "\n",
    "with open(docket_nos_path, 'r') as file:\n",
    "    for line in file:\n",
    "        line = line.strip()\n",
    "\n",
    "        # Check for year-only lines. The year indicates when the decision was released.\n",
    "        year_match = re.match(r'^<year>\\s+(\\d{4})$', line)\n",
    "        if year_match:\n",
    "            current_year = year_match.group(1)\n",
    "            continue\n",
    "\n",
    "        # Extract the docket number from regular lines\n",
    "        match = re.search(r'No\\.\\s+([\\w-]+)', line)\n",
    "        if match:\n",
    "            docket_number = match.group(1)\n",
    "            # Use the current year for this entry and add to the rows list\n",
    "            rows.append({'docket_number': docket_number, 'year': current_year})\n",
    "\n",
    "df = pd.concat([df, pd.DataFrame(rows)], ignore_index=True)\n",
    "\n",
    "print(df.head())\n"
   ]
  },
  {
   "cell_type": "code",
   "execution_count": 3,
   "metadata": {},
   "outputs": [
    {
     "name": "stdout",
     "output_type": "stream",
     "text": [
      "412\n"
     ]
    }
   ],
   "source": [
    "print(len(df))"
   ]
  },
  {
   "cell_type": "code",
   "execution_count": 4,
   "metadata": {},
   "outputs": [
    {
     "name": "stdout",
     "output_type": "stream",
     "text": [
      "/Users/jessewoo/.wdm/drivers/chromedriver/mac64/129.0.6668.89/chromedriver-mac-arm64/chromedriver\n"
     ]
    }
   ],
   "source": [
    "from webdriver_manager.chrome import ChromeDriverManager\n",
    "\n",
    "# This will print the location where ChromeDriver was downloaded\n",
    "driver_path = ChromeDriverManager().install()\n",
    "print(driver_path)\n"
   ]
  },
  {
   "cell_type": "code",
   "execution_count": 5,
   "metadata": {},
   "outputs": [],
   "source": [
    "import pandas as pd\n",
    "from selenium import webdriver \n",
    "from selenium.webdriver.common.by import By\n",
    "from selenium.webdriver.chrome.options import Options\n",
    "from selenium.webdriver.chrome.service import Service\n",
    "from webdriver_manager.chrome import ChromeDriverManager\n",
    "\n",
    "# Set up Chrome options\n",
    "options = Options()\n",
    "options.add_argument(\"--headless\")  # Run browser in headless mode\n",
    "\n",
    "# Provide the path to the manually downloaded ChromeDriver executable\n",
    "\n",
    "# Set up WebDriver\n",
    "service = Service(driver_path)\n",
    "driver = webdriver.Chrome(service=service, options=options)\n",
    "page_num = 0\n",
    "\n",
    "# Function to process a single docket page and return a list of row dictionaries\n",
    "def process_archive_page(page_num):\n",
    "    url = f\"https://www.justice.gov/osg/supreme-court-briefs?page={page_num}\"\n",
    "    row_data_list = []  # List to hold row data\n",
    "    \n",
    "    try:\n",
    "        driver.get(url)\n",
    "    except Exception as e:\n",
    "        print(f\"Error loading page {url}: {str(e)}\")\n",
    "        return row_data_list  # Return empty list in case of an error\n",
    "    \n",
    "    try:\n",
    "        # Find all table rows\n",
    "        rows = driver.find_elements(By.TAG_NAME, 'tr')\n",
    "    except Exception as e:\n",
    "        print(f\"Error finding table rows: {str(e)}\")\n",
    "        return row_data_list\n",
    "    \n",
    "    for row in rows:\n",
    "        try:\n",
    "            # Extract each <td> element's text for the respective columns\n",
    "            tds = row.find_elements(By.TAG_NAME, 'td')\n",
    "            if len(tds) == 7:  # Ensure there are exactly 7 <td> elements\n",
    "                year_field = tds[0].text.split()\n",
    "                year = year_field[0].strip()\n",
    "                docket_number = tds[1].text.strip()\n",
    "                caption = tds[2].text.strip()\n",
    "                link_element = tds[2].find_element(By.TAG_NAME, 'a')\n",
    "                caption_url = link_element.get_attribute('href')  # Get the URL of the link\n",
    "                \n",
    "                # Locate the file URL in the <td> element for the \"file_url\" column\n",
    "                file_url = \"\"\n",
    "                links = tds[3].find_elements(By.TAG_NAME, 'a')\n",
    "                for link in links:\n",
    "                    if link.text.strip().lower() == 'main document':\n",
    "                        file_url = link.get_attribute('href')\n",
    "                \n",
    "                brief_type = tds[4].text.strip()\n",
    "                subject = tds[5].text.strip()\n",
    "                filing_date = tds[6].text.strip()\n",
    "                \n",
    "                # Create a dictionary for the current row's data\n",
    "                row_data = {\n",
    "                    'year': year,\n",
    "                    'docket_number': docket_number,\n",
    "                    'caption': caption,\n",
    "                    'file_url': file_url,\n",
    "                    'caption_url': caption_url,\n",
    "                    'brief_type': brief_type,\n",
    "                    'subject': '',\n",
    "                    'filing_date': filing_date\n",
    "                }\n",
    "                \n",
    "                # Append the row data to the list\n",
    "                row_data_list.append(row_data)\n",
    "        except Exception as e:\n",
    "            print(f\"Error processing row: {str(e)}\")\n",
    "            continue\n",
    "    \n",
    "    return row_data_list\n",
    "\n",
    "\n"
   ]
  },
  {
   "cell_type": "code",
   "execution_count": 6,
   "metadata": {},
   "outputs": [],
   "source": [
    "all_data = []\n",
    "\n",
    "# For example, process the first few pages\n",
    "for page_num in range(0, 1):  # Adjust range for number of pages you want to process\n",
    "    page_data = process_archive_page(page_num)\n",
    "    all_data.extend(page_data)\n",
    "\n",
    "# Once all pages are processed, convert the list of dictionaries to a dataframe\n",
    "df = pd.DataFrame(all_data)"
   ]
  },
  {
   "cell_type": "code",
   "execution_count": 7,
   "metadata": {},
   "outputs": [],
   "source": [
    "driver.quit()"
   ]
  },
  {
   "cell_type": "code",
   "execution_count": 8,
   "metadata": {
    "scrolled": true
   },
   "outputs": [
    {
     "data": {
      "text/html": [
       "<div>\n",
       "<style scoped>\n",
       "    .dataframe tbody tr th:only-of-type {\n",
       "        vertical-align: middle;\n",
       "    }\n",
       "\n",
       "    .dataframe tbody tr th {\n",
       "        vertical-align: top;\n",
       "    }\n",
       "\n",
       "    .dataframe thead th {\n",
       "        text-align: right;\n",
       "    }\n",
       "</style>\n",
       "<table border=\"1\" class=\"dataframe\">\n",
       "  <thead>\n",
       "    <tr style=\"text-align: right;\">\n",
       "      <th></th>\n",
       "      <th>year</th>\n",
       "      <th>docket_number</th>\n",
       "      <th>caption</th>\n",
       "      <th>file_url</th>\n",
       "      <th>caption_url</th>\n",
       "      <th>brief_type</th>\n",
       "      <th>subject</th>\n",
       "      <th>filing_date</th>\n",
       "    </tr>\n",
       "  </thead>\n",
       "  <tbody>\n",
       "    <tr>\n",
       "      <th>0</th>\n",
       "      <td>2024</td>\n",
       "      <td>23-624</td>\n",
       "      <td>United States v. Trump</td>\n",
       "      <td></td>\n",
       "      <td>https://www.justice.gov/osg/brief/united-state...</td>\n",
       "      <td>Petition for Writ of Certiorari</td>\n",
       "      <td></td>\n",
       "      <td>Monday, December 11, 2023</td>\n",
       "    </tr>\n",
       "    <tr>\n",
       "      <th>1</th>\n",
       "      <td>2024</td>\n",
       "      <td>23-175</td>\n",
       "      <td>City of Grants Pass v. Johnson</td>\n",
       "      <td></td>\n",
       "      <td>https://www.justice.gov/osg/brief/city-grants-...</td>\n",
       "      <td>Merits Stage Amicus Brief</td>\n",
       "      <td></td>\n",
       "      <td>Monday, March 4, 2024</td>\n",
       "    </tr>\n",
       "    <tr>\n",
       "      <th>2</th>\n",
       "      <td>2024</td>\n",
       "      <td>23-708</td>\n",
       "      <td>Mark v. Republic of Sudan</td>\n",
       "      <td></td>\n",
       "      <td>https://www.justice.gov/osg/brief/mark-v-repub...</td>\n",
       "      <td>Petition Stage Reply Brief</td>\n",
       "      <td></td>\n",
       "      <td>Monday, March 25, 2024</td>\n",
       "    </tr>\n",
       "    <tr>\n",
       "      <th>3</th>\n",
       "      <td>2024</td>\n",
       "      <td>23-799</td>\n",
       "      <td>Magellan Tech. v. FDA</td>\n",
       "      <td></td>\n",
       "      <td>https://www.justice.gov/osg/brief/magellan-tec...</td>\n",
       "      <td>Petition Stage Response</td>\n",
       "      <td></td>\n",
       "      <td>Monday, March 25, 2024</td>\n",
       "    </tr>\n",
       "    <tr>\n",
       "      <th>4</th>\n",
       "      <td>2024</td>\n",
       "      <td>23-367</td>\n",
       "      <td>Starbucks Corp. v. McKinney</td>\n",
       "      <td></td>\n",
       "      <td>https://www.justice.gov/osg/brief/starbucks-co...</td>\n",
       "      <td>Merits Stage Brief</td>\n",
       "      <td></td>\n",
       "      <td>Friday, March 22, 2024</td>\n",
       "    </tr>\n",
       "  </tbody>\n",
       "</table>\n",
       "</div>"
      ],
      "text/plain": [
       "   year docket_number                         caption file_url  \\\n",
       "0  2024        23-624          United States v. Trump            \n",
       "1  2024        23-175  City of Grants Pass v. Johnson            \n",
       "2  2024        23-708       Mark v. Republic of Sudan            \n",
       "3  2024        23-799           Magellan Tech. v. FDA            \n",
       "4  2024        23-367     Starbucks Corp. v. McKinney            \n",
       "\n",
       "                                         caption_url  \\\n",
       "0  https://www.justice.gov/osg/brief/united-state...   \n",
       "1  https://www.justice.gov/osg/brief/city-grants-...   \n",
       "2  https://www.justice.gov/osg/brief/mark-v-repub...   \n",
       "3  https://www.justice.gov/osg/brief/magellan-tec...   \n",
       "4  https://www.justice.gov/osg/brief/starbucks-co...   \n",
       "\n",
       "                        brief_type subject                filing_date  \n",
       "0  Petition for Writ of Certiorari          Monday, December 11, 2023  \n",
       "1        Merits Stage Amicus Brief              Monday, March 4, 2024  \n",
       "2       Petition Stage Reply Brief             Monday, March 25, 2024  \n",
       "3          Petition Stage Response             Monday, March 25, 2024  \n",
       "4               Merits Stage Brief             Friday, March 22, 2024  "
      ]
     },
     "execution_count": 8,
     "metadata": {},
     "output_type": "execute_result"
    }
   ],
   "source": [
    "df.head()"
   ]
  },
  {
   "cell_type": "code",
   "execution_count": 9,
   "metadata": {},
   "outputs": [],
   "source": [
    "import os\n",
    "import requests\n",
    "from selenium import webdriver\n",
    "from selenium.webdriver.firefox.service import Service\n",
    "from selenium.webdriver.firefox.options import Options\n",
    "from selenium.webdriver.common.by import By\n",
    "import time\n",
    "\n",
    "\n",
    "def download_files(df_row):\n",
    "    try:\n",
    "        # Get the caption_url from the dataframe row\n",
    "        caption_url = df_row['caption_url']\n",
    "        \n",
    "        # Navigate to the caption_url page\n",
    "        driver.get(caption_url)\n",
    "        \n",
    "        # Wait for the page to load (you can use explicit waits here)\n",
    "        time.sleep(1)\n",
    "        \n",
    "        # Scrape all 'field__item' elements under the 'node-topics' div\n",
    "        topics_div = driver.find_element(By.CLASS_NAME, 'node-topics')\n",
    "        field_items = topics_div.find_elements(By.CLASS_NAME, 'field__item')\n",
    "        \n",
    "        # Collect all the topics into a list\n",
    "        topics = [item.text for item in field_items]\n",
    "        \n",
    "        # Update the 'subject' field in the dataframe with the topics\n",
    "        df_row['subject'] = topics\n",
    "        \n",
    "        # Find the downloadable PDF link\n",
    "        pdf_element = driver.find_element(By.CLASS_NAME, 'downloadable-src')\n",
    "        pdf_url = pdf_element.get_attribute('href')  # Get the PDF URL\n",
    "        \n",
    "        # Get the PDF filename from the URL\n",
    "        pdf_filename = os.path.join('./osg_briefs', pdf_url.split('/')[-1])\n",
    "        \n",
    "        # Download the PDF file\n",
    "        response = requests.get(pdf_url)\n",
    "        if response.status_code == 200:\n",
    "            with open(pdf_filename, 'wb') as f:\n",
    "                f.write(response.content)\n",
    "            print(f\"Downloaded: {pdf_filename}\")\n",
    "        \n",
    "        # Update the 'file_url' field in the dataframe with the PDF URL\n",
    "        df_row['file_url'] = pdf_url\n",
    "    \n",
    "    except Exception as e:\n",
    "        print(f\"Error processing file for row: {str(e)}\")\n",
    "        return df_row\n",
    "    \n",
    "    return df_row\n",
    "\n",
    "# Example usage: Apply this function to each row in your dataframe\n",
    "# Assuming you have a dataframe called 'df' with a column 'caption_url'\n"
   ]
  },
  {
   "cell_type": "code",
   "execution_count": 23,
   "metadata": {},
   "outputs": [
    {
     "name": "stdout",
     "output_type": "stream",
     "text": [
      "Downloaded: ./osg_briefs/23-624_u.s_v._trump_pet.pdf\n",
      "Downloaded: ./osg_briefs/23-175npunitedstates.pdf\n",
      "Downloaded: ./osg_briefs/mark_v._sudan_23-708.pdf\n",
      "Downloaded: ./osg_briefs/magellan_response.pdf\n",
      "Downloaded: ./osg_briefs/23-367bsunitedstates.pdf\n",
      "Downloaded: ./osg_briefs/23-411tsunitedstates.pdf\n",
      "Downloaded: ./osg_briefs/23-235_us_intervention_opp_-_final.pdf\n",
      "Downloaded: ./osg_briefs/23-189_debique_opp_-_final.pdf\n",
      "Downloaded: ./osg_briefs/22-976tsunitedstates.pdf\n",
      "Downloaded: ./osg_briefs/23-235tsunitedstates_0.pdf\n",
      "Downloaded: ./osg_briefs/23-717_alvarado_opp._-_final.pdf\n",
      "Downloaded: ./osg_briefs/22-1025npacunitedstates.pdf\n",
      "Downloaded: ./osg_briefs/lissack_opp.pdf\n",
      "Downloaded: ./osg_briefs/city_of_sf_041224.4_final.pdf\n",
      "Downloaded: ./osg_briefs/23-405_-_ross_v._ftc.pdf\n",
      "Downloaded: ./osg_briefs/22-1078bsunitedstates.pdf\n",
      "Downloaded: ./osg_briefs/23-380_military-veterans_advocacy_opp_final.pdf\n",
      "Downloaded: ./osg_briefs/22-1178rb_fbi_v._fikre.pdf\n",
      "Downloaded: ./osg_briefs/22-1008bsunitedstates.pdf\n",
      "Downloaded: ./osg_briefs/22-1165ac_macquarie_v._moab_partners.pdf\n",
      "Downloaded: ./osg_briefs/22-913bsacunited_states.pdf\n",
      "Downloaded: ./osg_briefs/22-1219_relentless_inc_et_al_v._dept_of_commerce.pdf\n",
      "Downloaded: ./osg_briefs/22-704_vidal_v._elster_reply.pdf\n",
      "Downloaded: ./osg_briefs/23-876_kc_transport_hold_-_final.pdf\n",
      "Downloaded: ./osg_briefs/23-666_cunningham_mem._opp._final.pdf\n"
     ]
    }
   ],
   "source": [
    "# Iterate through each row in the dataframe and update it with subjects and file URLs\n",
    "for index, row in df.iterrows():\n",
    "    df.loc[index] = download_files(row)\n",
    "\n",
    "# Close the browser after the process is done\n",
    "# driver.quit()\n",
    "\n",
    "# Save the updated dataframe (optional)\n",
    "# df.to_csv('updated_dataframe.csv', index=False)"
   ]
  },
  {
   "cell_type": "code",
   "execution_count": 20,
   "metadata": {},
   "outputs": [
    {
     "data": {
      "text/html": [
       "<div>\n",
       "<style scoped>\n",
       "    .dataframe tbody tr th:only-of-type {\n",
       "        vertical-align: middle;\n",
       "    }\n",
       "\n",
       "    .dataframe tbody tr th {\n",
       "        vertical-align: top;\n",
       "    }\n",
       "\n",
       "    .dataframe thead th {\n",
       "        text-align: right;\n",
       "    }\n",
       "</style>\n",
       "<table border=\"1\" class=\"dataframe\">\n",
       "  <thead>\n",
       "    <tr style=\"text-align: right;\">\n",
       "      <th></th>\n",
       "      <th>year</th>\n",
       "      <th>docket_number</th>\n",
       "      <th>caption</th>\n",
       "      <th>file_url</th>\n",
       "      <th>caption_url</th>\n",
       "      <th>brief_type</th>\n",
       "      <th>subject</th>\n",
       "      <th>filing_date</th>\n",
       "    </tr>\n",
       "  </thead>\n",
       "  <tbody>\n",
       "    <tr>\n",
       "      <th>0</th>\n",
       "      <td>2024</td>\n",
       "      <td>23-624</td>\n",
       "      <td>United States v. Trump</td>\n",
       "      <td></td>\n",
       "      <td>https://www.justice.gov/osg/brief/united-state...</td>\n",
       "      <td>Petition for Writ of Certiorari</td>\n",
       "      <td>[CRIMINAL (INCLUDING HABEAS/2255)]</td>\n",
       "      <td>Monday, December 11, 2023</td>\n",
       "    </tr>\n",
       "    <tr>\n",
       "      <th>1</th>\n",
       "      <td>2024</td>\n",
       "      <td>23-175</td>\n",
       "      <td>City of Grants Pass v. Johnson</td>\n",
       "      <td></td>\n",
       "      <td>https://www.justice.gov/osg/brief/city-grants-...</td>\n",
       "      <td>Merits Stage Amicus Brief</td>\n",
       "      <td>[CRIMINAL (INCLUDING HABEAS/2255)]</td>\n",
       "      <td>Monday, March 4, 2024</td>\n",
       "    </tr>\n",
       "    <tr>\n",
       "      <th>2</th>\n",
       "      <td>2024</td>\n",
       "      <td>23-708</td>\n",
       "      <td>Mark v. Republic of Sudan</td>\n",
       "      <td></td>\n",
       "      <td>https://www.justice.gov/osg/brief/mark-v-repub...</td>\n",
       "      <td>Petition Stage Reply Brief</td>\n",
       "      <td>[CIVIL DIV. I: GENERAL (E.G., DOT, FEC, FOIA, ...</td>\n",
       "      <td>Monday, March 25, 2024</td>\n",
       "    </tr>\n",
       "    <tr>\n",
       "      <th>3</th>\n",
       "      <td>2024</td>\n",
       "      <td>23-799</td>\n",
       "      <td>Magellan Tech. v. FDA</td>\n",
       "      <td></td>\n",
       "      <td>https://www.justice.gov/osg/brief/magellan-tec...</td>\n",
       "      <td>Petition Stage Response</td>\n",
       "      <td>[ADMINISTRATIVE LAW, CIVIL DIV. II: HHS (MEDIC...</td>\n",
       "      <td>Monday, March 25, 2024</td>\n",
       "    </tr>\n",
       "    <tr>\n",
       "      <th>4</th>\n",
       "      <td>2024</td>\n",
       "      <td>23-367</td>\n",
       "      <td>Starbucks Corp. v. McKinney</td>\n",
       "      <td></td>\n",
       "      <td>https://www.justice.gov/osg/brief/starbucks-co...</td>\n",
       "      <td>Merits Stage Brief</td>\n",
       "      <td>[CIVIL DIV. I: GENERAL (E.G., DOT, FEC, FOIA, ...</td>\n",
       "      <td>Friday, March 22, 2024</td>\n",
       "    </tr>\n",
       "  </tbody>\n",
       "</table>\n",
       "</div>"
      ],
      "text/plain": [
       "   year docket_number                         caption file_url  \\\n",
       "0  2024        23-624          United States v. Trump            \n",
       "1  2024        23-175  City of Grants Pass v. Johnson            \n",
       "2  2024        23-708       Mark v. Republic of Sudan            \n",
       "3  2024        23-799           Magellan Tech. v. FDA            \n",
       "4  2024        23-367     Starbucks Corp. v. McKinney            \n",
       "\n",
       "                                         caption_url  \\\n",
       "0  https://www.justice.gov/osg/brief/united-state...   \n",
       "1  https://www.justice.gov/osg/brief/city-grants-...   \n",
       "2  https://www.justice.gov/osg/brief/mark-v-repub...   \n",
       "3  https://www.justice.gov/osg/brief/magellan-tec...   \n",
       "4  https://www.justice.gov/osg/brief/starbucks-co...   \n",
       "\n",
       "                        brief_type  \\\n",
       "0  Petition for Writ of Certiorari   \n",
       "1        Merits Stage Amicus Brief   \n",
       "2       Petition Stage Reply Brief   \n",
       "3          Petition Stage Response   \n",
       "4               Merits Stage Brief   \n",
       "\n",
       "                                             subject  \\\n",
       "0                 [CRIMINAL (INCLUDING HABEAS/2255)]   \n",
       "1                 [CRIMINAL (INCLUDING HABEAS/2255)]   \n",
       "2  [CIVIL DIV. I: GENERAL (E.G., DOT, FEC, FOIA, ...   \n",
       "3  [ADMINISTRATIVE LAW, CIVIL DIV. II: HHS (MEDIC...   \n",
       "4  [CIVIL DIV. I: GENERAL (E.G., DOT, FEC, FOIA, ...   \n",
       "\n",
       "                 filing_date  \n",
       "0  Monday, December 11, 2023  \n",
       "1      Monday, March 4, 2024  \n",
       "2     Monday, March 25, 2024  \n",
       "3     Monday, March 25, 2024  \n",
       "4     Friday, March 22, 2024  "
      ]
     },
     "execution_count": 20,
     "metadata": {},
     "output_type": "execute_result"
    }
   ],
   "source": [
    "df.head()"
   ]
  },
  {
   "cell_type": "code",
   "execution_count": 5,
   "metadata": {
    "scrolled": true
   },
   "outputs": [],
   "source": [
    "import time\n",
    "import random\n",
    "\n",
    "# List of docket numbers to process\n",
    "docket_numbers = df['docket_number'].tolist()\n",
    "\n",
    "# Dictionary to hold docket numbers and their associated PDF URLs\n",
    "docket_pdf_urls = {}\n",
    "\n",
    "# Try to do this directly with the dataframe rows, otherwise use a list.\n",
    "for idx, row in df.iterrows():\n",
    "    docket_number = row['docket_number']\n",
    "    pdf_urls = process_docket_page(docket_number)\n",
    "    docket_pdf_urls[docket_number] = pdf_urls\n",
    "    df.at[idx, 'url_list'] = pdf_urls\n",
    "    \n",
    "    time.sleep(random.uniform(1, 2)) # Hopefully avoid rate limits\n",
    "\n",
    "driver.quit()"
   ]
  },
  {
   "cell_type": "code",
   "execution_count": 6,
   "metadata": {},
   "outputs": [
    {
     "name": "stdout",
     "output_type": "stream",
     "text": [
      "410\n"
     ]
    }
   ],
   "source": [
    "print(len(docket_pdf_urls))"
   ]
  },
  {
   "cell_type": "code",
   "execution_count": 7,
   "metadata": {},
   "outputs": [],
   "source": [
    "import requests\n",
    "\n",
    "# Ensure you have the correct headers for the request if needed\n",
    "headers = {\n",
    "    'User-Agent': 'Mozilla/5.0 (Windows NT 10.0; Win64; x64) AppleWebKit/537.36 (KHTML, like Gecko) Chrome/87.0.4280.141 Safari/537.36',\n",
    "}\n",
    "\n",
    "num_briefs = 0\n",
    "\n",
    "for docket_number, urls_list in docket_pdf_urls.items():\n",
    "    num = 1\n",
    "    for url in urls_list:\n",
    "        response = requests.get(url, headers=headers, stream=True)\n",
    "        if response.status_code == 200:\n",
    "            with open(f'./brief_pdfs/Docket{docket_number}_Brief{num:03}.pdf', 'wb') as f:\n",
    "                f.write(response.content)\n",
    "            \n",
    "            num += 1\n",
    "            num_briefs += 1\n",
    "            # print(\"pdf saved successfully, I sleep now\")\n",
    "            time.sleep(random.uniform(1, 2))\n",
    "        else:\n",
    "            print(f\"Failed to download PDF for docket number {docket_number}. Status code: {response.status_code}\")\n"
   ]
  },
  {
   "cell_type": "code",
   "execution_count": null,
   "metadata": {},
   "outputs": [],
   "source": []
  },
  {
   "cell_type": "code",
   "execution_count": 8,
   "metadata": {},
   "outputs": [
    {
     "name": "stdout",
     "output_type": "stream",
     "text": [
      "You scraped 4377 briefs.\n"
     ]
    }
   ],
   "source": [
    "print(f\"You scraped {num_briefs} briefs.\")"
   ]
  },
  {
   "cell_type": "code",
   "execution_count": 1,
   "metadata": {},
   "outputs": [
    {
     "ename": "NameError",
     "evalue": "name 'df' is not defined",
     "output_type": "error",
     "traceback": [
      "\u001b[1;31m---------------------------------------------------------------------------\u001b[0m",
      "\u001b[1;31mNameError\u001b[0m                                 Traceback (most recent call last)",
      "Input \u001b[1;32mIn [1]\u001b[0m, in \u001b[0;36m<cell line: 1>\u001b[1;34m()\u001b[0m\n\u001b[1;32m----> 1\u001b[0m \u001b[43mdf\u001b[49m\u001b[38;5;241m.\u001b[39mto_json(\u001b[38;5;124m'\u001b[39m\u001b[38;5;124m./scraped_briefs.json\u001b[39m\u001b[38;5;124m'\u001b[39m, orient\u001b[38;5;241m=\u001b[39m\u001b[38;5;124m'\u001b[39m\u001b[38;5;124mrecords\u001b[39m\u001b[38;5;124m'\u001b[39m)\n",
      "\u001b[1;31mNameError\u001b[0m: name 'df' is not defined"
     ]
    }
   ],
   "source": [
    "df.to_json('./scraped_briefs.json', orient='records')"
   ]
  },
  {
   "cell_type": "markdown",
   "metadata": {
    "id": "MKOfuQn7ask0"
   },
   "source": [
    "This is for DOJ's archive of OSG briefs, which would serve as a backup. Probably better download directly from supremecourt.gov though."
   ]
  },
  {
   "cell_type": "code",
   "execution_count": null,
   "metadata": {
    "id": "Gh3Hg-QTWN1P"
   },
   "outputs": [],
   "source": []
  }
 ],
 "metadata": {
  "colab": {
   "provenance": []
  },
  "kernelspec": {
   "display_name": "Python 3 (ipykernel)",
   "language": "python",
   "name": "python3"
  },
  "language_info": {
   "codemirror_mode": {
    "name": "ipython",
    "version": 3
   },
   "file_extension": ".py",
   "mimetype": "text/x-python",
   "name": "python",
   "nbconvert_exporter": "python",
   "pygments_lexer": "ipython3",
   "version": "3.12.7"
  }
 },
 "nbformat": 4,
 "nbformat_minor": 4
}
